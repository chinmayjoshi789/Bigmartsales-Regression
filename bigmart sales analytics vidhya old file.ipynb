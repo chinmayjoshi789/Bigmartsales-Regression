{
 "cells": [
  {
   "cell_type": "code",
   "execution_count": 1,
   "metadata": {},
   "outputs": [],
   "source": [
    "import pandas as pd \n",
    "import numpy as np\n",
    "import matplotlib.pyplot as plt\n",
    "import seaborn as sns"
   ]
  },
  {
   "cell_type": "code",
   "execution_count": 2,
   "metadata": {},
   "outputs": [],
   "source": [
    "df=pd.read_csv('D:/datasets+minipro/Analytics vidhya free course material/Regression/bigmartanalytics.csv')"
   ]
  },
  {
   "cell_type": "code",
   "execution_count": 3,
   "metadata": {},
   "outputs": [],
   "source": [
    "# dftr=pd.read_csv('D:/datasets+minipro/Analytics vidhya free course material/Regression/bigmartanalytics.csv')\n",
    "# dfte=pd.read_csv('D:/datasets+minipro/analytics vidhya datasets/bigmart sale/test_AbJTz2l.csv')\n",
    "# dfte['Item_Outlet_Sales']=np.nan\n",
    "\n",
    "# dftr['type']='train'\n",
    "# dfte['type']='test'\n",
    "\n",
    "# df=pd.concat([dftr.reset_index(drop=True),dfte.reset_index(drop=True)],0)"
   ]
  },
  {
   "cell_type": "code",
   "execution_count": 5,
   "metadata": {},
   "outputs": [
    {
     "name": "stdout",
     "output_type": "stream",
     "text": [
      "<class 'pandas.core.frame.DataFrame'>\n",
      "RangeIndex: 8523 entries, 0 to 8522\n",
      "Data columns (total 12 columns):\n",
      " #   Column                     Non-Null Count  Dtype  \n",
      "---  ------                     --------------  -----  \n",
      " 0   Item_Identifier            8523 non-null   object \n",
      " 1   Item_Weight                7060 non-null   float64\n",
      " 2   Item_Fat_Content           8523 non-null   object \n",
      " 3   Item_Visibility            8523 non-null   float64\n",
      " 4   Item_Type                  8523 non-null   object \n",
      " 5   Item_MRP                   8523 non-null   float64\n",
      " 6   Outlet_Identifier          8523 non-null   object \n",
      " 7   Outlet_Establishment_Year  8523 non-null   int64  \n",
      " 8   Outlet_Size                6113 non-null   object \n",
      " 9   Outlet_Location_Type       8523 non-null   object \n",
      " 10  Outlet_Type                8523 non-null   object \n",
      " 11  Item_Outlet_Sales          8523 non-null   float64\n",
      "dtypes: float64(4), int64(1), object(7)\n",
      "memory usage: 799.2+ KB\n"
     ]
    }
   ],
   "source": [
    "df.info()"
   ]
  },
  {
   "cell_type": "code",
   "execution_count": 6,
   "metadata": {},
   "outputs": [
    {
     "data": {
      "text/html": [
       "<div>\n",
       "<style scoped>\n",
       "    .dataframe tbody tr th:only-of-type {\n",
       "        vertical-align: middle;\n",
       "    }\n",
       "\n",
       "    .dataframe tbody tr th {\n",
       "        vertical-align: top;\n",
       "    }\n",
       "\n",
       "    .dataframe thead th {\n",
       "        text-align: right;\n",
       "    }\n",
       "</style>\n",
       "<table border=\"1\" class=\"dataframe\">\n",
       "  <thead>\n",
       "    <tr style=\"text-align: right;\">\n",
       "      <th></th>\n",
       "      <th>Item_Weight</th>\n",
       "      <th>Item_Visibility</th>\n",
       "      <th>Item_MRP</th>\n",
       "      <th>Outlet_Establishment_Year</th>\n",
       "      <th>Item_Outlet_Sales</th>\n",
       "    </tr>\n",
       "  </thead>\n",
       "  <tbody>\n",
       "    <tr>\n",
       "      <th>count</th>\n",
       "      <td>7060.000000</td>\n",
       "      <td>8523.000000</td>\n",
       "      <td>8523.000000</td>\n",
       "      <td>8523.000000</td>\n",
       "      <td>8523.000000</td>\n",
       "    </tr>\n",
       "    <tr>\n",
       "      <th>mean</th>\n",
       "      <td>12.857645</td>\n",
       "      <td>0.066132</td>\n",
       "      <td>140.992782</td>\n",
       "      <td>1997.831867</td>\n",
       "      <td>2181.288914</td>\n",
       "    </tr>\n",
       "    <tr>\n",
       "      <th>std</th>\n",
       "      <td>4.643456</td>\n",
       "      <td>0.051598</td>\n",
       "      <td>62.275067</td>\n",
       "      <td>8.371760</td>\n",
       "      <td>1706.499616</td>\n",
       "    </tr>\n",
       "    <tr>\n",
       "      <th>min</th>\n",
       "      <td>4.555000</td>\n",
       "      <td>0.000000</td>\n",
       "      <td>31.290000</td>\n",
       "      <td>1985.000000</td>\n",
       "      <td>33.290000</td>\n",
       "    </tr>\n",
       "    <tr>\n",
       "      <th>25%</th>\n",
       "      <td>8.773750</td>\n",
       "      <td>0.026989</td>\n",
       "      <td>93.826500</td>\n",
       "      <td>1987.000000</td>\n",
       "      <td>834.247400</td>\n",
       "    </tr>\n",
       "    <tr>\n",
       "      <th>50%</th>\n",
       "      <td>12.600000</td>\n",
       "      <td>0.053931</td>\n",
       "      <td>143.012800</td>\n",
       "      <td>1999.000000</td>\n",
       "      <td>1794.331000</td>\n",
       "    </tr>\n",
       "    <tr>\n",
       "      <th>75%</th>\n",
       "      <td>16.850000</td>\n",
       "      <td>0.094585</td>\n",
       "      <td>185.643700</td>\n",
       "      <td>2004.000000</td>\n",
       "      <td>3101.296400</td>\n",
       "    </tr>\n",
       "    <tr>\n",
       "      <th>max</th>\n",
       "      <td>21.350000</td>\n",
       "      <td>0.328391</td>\n",
       "      <td>266.888400</td>\n",
       "      <td>2009.000000</td>\n",
       "      <td>13086.964800</td>\n",
       "    </tr>\n",
       "  </tbody>\n",
       "</table>\n",
       "</div>"
      ],
      "text/plain": [
       "       Item_Weight  Item_Visibility     Item_MRP  Outlet_Establishment_Year  \\\n",
       "count  7060.000000      8523.000000  8523.000000                8523.000000   \n",
       "mean     12.857645         0.066132   140.992782                1997.831867   \n",
       "std       4.643456         0.051598    62.275067                   8.371760   \n",
       "min       4.555000         0.000000    31.290000                1985.000000   \n",
       "25%       8.773750         0.026989    93.826500                1987.000000   \n",
       "50%      12.600000         0.053931   143.012800                1999.000000   \n",
       "75%      16.850000         0.094585   185.643700                2004.000000   \n",
       "max      21.350000         0.328391   266.888400                2009.000000   \n",
       "\n",
       "       Item_Outlet_Sales  \n",
       "count        8523.000000  \n",
       "mean         2181.288914  \n",
       "std          1706.499616  \n",
       "min            33.290000  \n",
       "25%           834.247400  \n",
       "50%          1794.331000  \n",
       "75%          3101.296400  \n",
       "max         13086.964800  "
      ]
     },
     "execution_count": 6,
     "metadata": {},
     "output_type": "execute_result"
    }
   ],
   "source": [
    "df.describe()"
   ]
  },
  {
   "cell_type": "code",
   "execution_count": 7,
   "metadata": {},
   "outputs": [
    {
     "data": {
      "text/html": [
       "<div>\n",
       "<style scoped>\n",
       "    .dataframe tbody tr th:only-of-type {\n",
       "        vertical-align: middle;\n",
       "    }\n",
       "\n",
       "    .dataframe tbody tr th {\n",
       "        vertical-align: top;\n",
       "    }\n",
       "\n",
       "    .dataframe thead th {\n",
       "        text-align: right;\n",
       "    }\n",
       "</style>\n",
       "<table border=\"1\" class=\"dataframe\">\n",
       "  <thead>\n",
       "    <tr style=\"text-align: right;\">\n",
       "      <th></th>\n",
       "      <th>Item_Identifier</th>\n",
       "      <th>Item_Weight</th>\n",
       "      <th>Item_Fat_Content</th>\n",
       "      <th>Item_Visibility</th>\n",
       "      <th>Item_Type</th>\n",
       "      <th>Item_MRP</th>\n",
       "      <th>Outlet_Identifier</th>\n",
       "      <th>Outlet_Establishment_Year</th>\n",
       "      <th>Outlet_Size</th>\n",
       "      <th>Outlet_Location_Type</th>\n",
       "      <th>Outlet_Type</th>\n",
       "      <th>Item_Outlet_Sales</th>\n",
       "    </tr>\n",
       "  </thead>\n",
       "  <tbody>\n",
       "    <tr>\n",
       "      <th>0</th>\n",
       "      <td>FDA15</td>\n",
       "      <td>9.30</td>\n",
       "      <td>Low Fat</td>\n",
       "      <td>0.016047</td>\n",
       "      <td>Dairy</td>\n",
       "      <td>249.8092</td>\n",
       "      <td>OUT049</td>\n",
       "      <td>1999</td>\n",
       "      <td>Medium</td>\n",
       "      <td>Tier 1</td>\n",
       "      <td>Supermarket Type1</td>\n",
       "      <td>3735.1380</td>\n",
       "    </tr>\n",
       "    <tr>\n",
       "      <th>1</th>\n",
       "      <td>DRC01</td>\n",
       "      <td>5.92</td>\n",
       "      <td>Regular</td>\n",
       "      <td>0.019278</td>\n",
       "      <td>Soft Drinks</td>\n",
       "      <td>48.2692</td>\n",
       "      <td>OUT018</td>\n",
       "      <td>2009</td>\n",
       "      <td>Medium</td>\n",
       "      <td>Tier 3</td>\n",
       "      <td>Supermarket Type2</td>\n",
       "      <td>443.4228</td>\n",
       "    </tr>\n",
       "    <tr>\n",
       "      <th>2</th>\n",
       "      <td>FDN15</td>\n",
       "      <td>17.50</td>\n",
       "      <td>Low Fat</td>\n",
       "      <td>0.016760</td>\n",
       "      <td>Meat</td>\n",
       "      <td>141.6180</td>\n",
       "      <td>OUT049</td>\n",
       "      <td>1999</td>\n",
       "      <td>Medium</td>\n",
       "      <td>Tier 1</td>\n",
       "      <td>Supermarket Type1</td>\n",
       "      <td>2097.2700</td>\n",
       "    </tr>\n",
       "    <tr>\n",
       "      <th>3</th>\n",
       "      <td>FDX07</td>\n",
       "      <td>19.20</td>\n",
       "      <td>Regular</td>\n",
       "      <td>0.000000</td>\n",
       "      <td>Fruits and Vegetables</td>\n",
       "      <td>182.0950</td>\n",
       "      <td>OUT010</td>\n",
       "      <td>1998</td>\n",
       "      <td>NaN</td>\n",
       "      <td>Tier 3</td>\n",
       "      <td>Grocery Store</td>\n",
       "      <td>732.3800</td>\n",
       "    </tr>\n",
       "    <tr>\n",
       "      <th>4</th>\n",
       "      <td>NCD19</td>\n",
       "      <td>8.93</td>\n",
       "      <td>Low Fat</td>\n",
       "      <td>0.000000</td>\n",
       "      <td>Household</td>\n",
       "      <td>53.8614</td>\n",
       "      <td>OUT013</td>\n",
       "      <td>1987</td>\n",
       "      <td>High</td>\n",
       "      <td>Tier 3</td>\n",
       "      <td>Supermarket Type1</td>\n",
       "      <td>994.7052</td>\n",
       "    </tr>\n",
       "  </tbody>\n",
       "</table>\n",
       "</div>"
      ],
      "text/plain": [
       "  Item_Identifier  Item_Weight Item_Fat_Content  Item_Visibility  \\\n",
       "0           FDA15         9.30          Low Fat         0.016047   \n",
       "1           DRC01         5.92          Regular         0.019278   \n",
       "2           FDN15        17.50          Low Fat         0.016760   \n",
       "3           FDX07        19.20          Regular         0.000000   \n",
       "4           NCD19         8.93          Low Fat         0.000000   \n",
       "\n",
       "               Item_Type  Item_MRP Outlet_Identifier  \\\n",
       "0                  Dairy  249.8092            OUT049   \n",
       "1            Soft Drinks   48.2692            OUT018   \n",
       "2                   Meat  141.6180            OUT049   \n",
       "3  Fruits and Vegetables  182.0950            OUT010   \n",
       "4              Household   53.8614            OUT013   \n",
       "\n",
       "   Outlet_Establishment_Year Outlet_Size Outlet_Location_Type  \\\n",
       "0                       1999      Medium               Tier 1   \n",
       "1                       2009      Medium               Tier 3   \n",
       "2                       1999      Medium               Tier 1   \n",
       "3                       1998         NaN               Tier 3   \n",
       "4                       1987        High               Tier 3   \n",
       "\n",
       "         Outlet_Type  Item_Outlet_Sales  \n",
       "0  Supermarket Type1          3735.1380  \n",
       "1  Supermarket Type2           443.4228  \n",
       "2  Supermarket Type1          2097.2700  \n",
       "3      Grocery Store           732.3800  \n",
       "4  Supermarket Type1           994.7052  "
      ]
     },
     "execution_count": 7,
     "metadata": {},
     "output_type": "execute_result"
    }
   ],
   "source": [
    "df.head()\n",
    "# initial observation :\n",
    "# Item_identifier,Outlet_Identifier is not useful,can be dropped.[2 Features]\n",
    "# Item_weight continuous numeric variable\n",
    "# Item_Fat_Content,Item_Type are categorical feature can be treated by label encoding/manual label encoding[box plot]/get_dummies\n",
    "# Outlet_identifier can be converted by label encoder as there can be no order/manual LE/get_dummies\n",
    "# Outlet_Size can be converted by LE[preferred as order is present]/manual LE/get_dummies\n",
    "# Outlet_Location_Type can be converted by manual LE[order is present]\n",
    "# Item_Outlet_sales target variable.\n",
    "# No order Outlet_Type/get_dummies preffered."
   ]
  },
  {
   "cell_type": "code",
   "execution_count": 8,
   "metadata": {},
   "outputs": [],
   "source": [
    "# Lets begin by saying that we should drop the variables Item_Identifier &  Outlet_Identifier\n",
    "# But,we keep Outlet_Identifier for now to build our base model using statsmodel and testing reponse with target variable\n",
    "# So,we convert it. "
   ]
  },
  {
   "cell_type": "code",
   "execution_count": 9,
   "metadata": {},
   "outputs": [],
   "source": [
    "df.drop('Item_Identifier',1,inplace=True)"
   ]
  },
  {
   "cell_type": "markdown",
   "metadata": {},
   "source": [
    "# Performing basic EDA:[With Outlet_identifier]"
   ]
  },
  {
   "cell_type": "code",
   "execution_count": 10,
   "metadata": {},
   "outputs": [],
   "source": [
    "df1=df.copy() # make any change in df1"
   ]
  },
  {
   "cell_type": "code",
   "execution_count": 11,
   "metadata": {},
   "outputs": [],
   "source": [
    "# we convert Item_Fat_Content with Label encoding as there is no order assigned to it.\n",
    "from sklearn.preprocessing import LabelEncoder\n",
    "le=LabelEncoder()"
   ]
  },
  {
   "cell_type": "code",
   "execution_count": 12,
   "metadata": {
    "scrolled": true
   },
   "outputs": [
    {
     "data": {
      "image/png": "[encoded data removed]",
      "text/plain": [
       "<Figure size 432x288 with 1 Axes>"
      ]
     },
     "metadata": {
      "needs_background": "light"
     },
     "output_type": "display_data"
    }
   ],
   "source": [
    "sns.boxplot(df1['Item_Fat_Content'],df1['Item_Outlet_Sales'])\n",
    "plt.show()\n",
    "# we tried to find out if there is any order to it by plotting it wrto target.\n",
    "# Unfortunately there is not,so have to go with Label encoder/Dummification\n",
    "# The problem with label encoding is that some order will be assigned to it by alphabets.\n",
    "# So,we will only go with dummies.\n",
    "# 1 thing I have observed here is LF,,low fat also means Low fat and reg means regular,there is no need to keep them \n",
    "# in separate class,so we will merge them"
   ]
  },
  {
   "cell_type": "code",
   "execution_count": 13,
   "metadata": {},
   "outputs": [],
   "source": [
    "### Converting Incorrect classes,typos into same class in df1.\n",
    "df1['Item_Fat_Content'].replace({'LF':'Low Fat','low fat':'Low Fat','reg':'Regular'},inplace=True)"
   ]
  },
  {
   "cell_type": "code",
   "execution_count": 14,
   "metadata": {},
   "outputs": [
    {
     "data": {
      "text/plain": [
       "<matplotlib.axes._subplots.AxesSubplot at 0x2e9d6d84da0>"
      ]
     },
     "execution_count": 14,
     "metadata": {},
     "output_type": "execute_result"
    },
    {
     "data": {
      "image/png": "[encoded data removed]",
      "text/plain": [
       "<Figure size 432x288 with 1 Axes>"
      ]
     },
     "metadata": {
      "needs_background": "light"
     },
     "output_type": "display_data"
    }
   ],
   "source": [
    "# Lets check the boxplot again wrto target\n",
    "\n",
    "sns.boxplot(df1['Item_Fat_Content'],df1['Item_Outlet_Sales'])\n",
    "# still no difference,so we can go with label or get_dummies[either or]as only 2 classes are present."
   ]
  },
  {
   "cell_type": "code",
   "execution_count": 15,
   "metadata": {},
   "outputs": [],
   "source": [
    "# I will choose to do get_dummies.\n",
    "\n",
    "a=pd.get_dummies(df1['Item_Fat_Content'],drop_first=True)# we will concat it to df1 later"
   ]
  },
  {
   "cell_type": "code",
   "execution_count": 16,
   "metadata": {},
   "outputs": [
    {
     "data": {
      "image/png": "[encoded data removed]",
      "text/plain": [
       "<Figure size 1080x360 with 1 Axes>"
      ]
     },
     "metadata": {
      "needs_background": "light"
     },
     "output_type": "display_data"
    }
   ],
   "source": [
    "# Item_Type\n",
    "fig,axes=plt.subplots(figsize=(15,5))\n",
    "sns.boxplot(df1['Item_Type'],df1['Item_Outlet_Sales'])\n",
    "plt.xticks(rotation=90)\n",
    "plt.show()\n",
    "# In this case also,we can not find order for manual LE,so we will go with LE/get_dummies\n",
    "# As no order can be assigned to it such as rating/degree\n",
    "# we have to fwd with get_dummies"
   ]
  },
  {
   "cell_type": "code",
   "execution_count": 17,
   "metadata": {},
   "outputs": [],
   "source": [
    "b=pd.get_dummies(df1['Item_Type'],drop_first=True) # use it later for concat"
   ]
  },
  {
   "cell_type": "code",
   "execution_count": 18,
   "metadata": {},
   "outputs": [
    {
     "data": {
      "image/png": "[encoded data removed]",
      "text/plain": [
       "<Figure size 432x288 with 1 Axes>"
      ]
     },
     "metadata": {
      "needs_background": "light"
     },
     "output_type": "display_data"
    }
   ],
   "source": [
    "sns.boxplot(df1['Outlet_Identifier'],df1['Item_Outlet_Sales'])\n",
    "plt.xticks(rotation=90)\n",
    "plt.show()\n",
    "# Its messy,I would rather prefer get_dummies just to check the response"
   ]
  },
  {
   "cell_type": "code",
   "execution_count": 19,
   "metadata": {},
   "outputs": [],
   "source": [
    "c=pd.get_dummies(df1['Outlet_Identifier'],drop_first=True) # use later.concat"
   ]
  },
  {
   "cell_type": "code",
   "execution_count": 20,
   "metadata": {},
   "outputs": [
    {
     "data": {
      "text/plain": [
       "<matplotlib.axes._subplots.AxesSubplot at 0x2e9d702f630>"
      ]
     },
     "execution_count": 20,
     "metadata": {},
     "output_type": "execute_result"
    },
    {
     "data": {
      "image/png": "[encoded data removed]",
      "text/plain": [
       "<Figure size 432x288 with 1 Axes>"
      ]
     },
     "metadata": {
      "needs_background": "light"
     },
     "output_type": "display_data"
    }
   ],
   "source": [
    "sns.boxplot(df1['Outlet_Size'],df1['Item_Outlet_Sales'])\n",
    "# here we see clear order between target and input feature,so we can manually label encode by looking "
   ]
  },
  {
   "cell_type": "code",
   "execution_count": 21,
   "metadata": {},
   "outputs": [
    {
     "data": {
      "text/plain": [
       "Item_Weight                  1463\n",
       "Item_Fat_Content                0\n",
       "Item_Visibility                 0\n",
       "Item_Type                       0\n",
       "Item_MRP                        0\n",
       "Outlet_Identifier               0\n",
       "Outlet_Establishment_Year       0\n",
       "Outlet_Size                  2410\n",
       "Outlet_Location_Type            0\n",
       "Outlet_Type                     0\n",
       "Item_Outlet_Sales               0\n",
       "dtype: int64"
      ]
     },
     "execution_count": 21,
     "metadata": {},
     "output_type": "execute_result"
    }
   ],
   "source": [
    "df.isnull().sum()\n",
    "# As we can observe there are some null values in the Outlet_size,\n",
    "# we can impute it by replacing all null values with mode as it is caegorical feature"
   ]
  },
  {
   "cell_type": "code",
   "execution_count": 22,
   "metadata": {},
   "outputs": [
    {
     "data": {
      "text/plain": [
       "Outlet_Size\n",
       "High      2298.995256\n",
       "Medium    2681.603542\n",
       "Small     1912.149161\n",
       "Name: Item_Outlet_Sales, dtype: float64"
      ]
     },
     "execution_count": 22,
     "metadata": {},
     "output_type": "execute_result"
    }
   ],
   "source": [
    "df1.groupby(df1['Outlet_Size']).agg('mean')['Item_Outlet_Sales']\n",
    "# Just to take a look at how size matters in terms of outlet sales,this confirms that we can impute null values \n",
    "# as medium "
   ]
  },
  {
   "cell_type": "code",
   "execution_count": 23,
   "metadata": {},
   "outputs": [
    {
     "data": {
      "text/plain": [
       "0    Medium\n",
       "dtype: object"
      ]
     },
     "execution_count": 23,
     "metadata": {},
     "output_type": "execute_result"
    }
   ],
   "source": [
    "df1['Outlet_Size'].mode()"
   ]
  },
  {
   "cell_type": "code",
   "execution_count": 24,
   "metadata": {},
   "outputs": [],
   "source": [
    "df1['Outlet_Size'].fillna('Medium',inplace=True)\n",
    "# After this there are no null values in the whole dataset."
   ]
  },
  {
   "cell_type": "code",
   "execution_count": 25,
   "metadata": {},
   "outputs": [
    {
     "data": {
      "text/plain": [
       "<matplotlib.axes._subplots.AxesSubplot at 0x2e9d7095eb8>"
      ]
     },
     "execution_count": 25,
     "metadata": {},
     "output_type": "execute_result"
    },
    {
     "data": {
      "image/png": "[encoded data removed]",
      "text/plain": [
       "<Figure size 432x288 with 1 Axes>"
      ]
     },
     "metadata": {
      "needs_background": "light"
     },
     "output_type": "display_data"
    }
   ],
   "source": [
    "sns.boxplot(df1['Outlet_Size'],df1['Item_Outlet_Sales'])\n",
    "# The impact made by imputing null values is that,our boxplot now is showing that 'High' should be assigned higher order"
   ]
  },
  {
   "cell_type": "code",
   "execution_count": 26,
   "metadata": {},
   "outputs": [],
   "source": [
    "# Manual label encoding\n",
    "df1['Outlet_Size'].replace({'Small':1,'Medium':2,'High':3},inplace=True)"
   ]
  },
  {
   "cell_type": "code",
   "execution_count": 27,
   "metadata": {},
   "outputs": [
    {
     "data": {
      "text/plain": [
       "<matplotlib.axes._subplots.AxesSubplot at 0x2e9d72d4ac8>"
      ]
     },
     "execution_count": 27,
     "metadata": {},
     "output_type": "execute_result"
    },
    {
     "data": {
      "image/png": "[encoded data removed]",
      "text/plain": [
       "<Figure size 432x288 with 1 Axes>"
      ]
     },
     "metadata": {
      "needs_background": "light"
     },
     "output_type": "display_data"
    }
   ],
   "source": [
    "# Outlet_Location_Type\n",
    "sns.boxplot(df1['Outlet_Location_Type'],df1['Item_Outlet_Sales'])"
   ]
  },
  {
   "cell_type": "code",
   "execution_count": 28,
   "metadata": {},
   "outputs": [],
   "source": [
    "# Manual label encoding:[Important note this,we are doing in this order because of boxplot]\n",
    "df1['Outlet_Location_Type'].replace({'Tier 1':1,'Tier 3':2,'Tier 2':3},inplace=True)"
   ]
  },
  {
   "cell_type": "code",
   "execution_count": 29,
   "metadata": {},
   "outputs": [
    {
     "data": {
      "image/png": "[encoded data removed]",
      "text/plain": [
       "<Figure size 432x288 with 1 Axes>"
      ]
     },
     "metadata": {
      "needs_background": "light"
     },
     "output_type": "display_data"
    }
   ],
   "source": [
    "# again,manual LE is applicable,clear distinction is visible,so no need to do LE/get_dummies and increase the features\n",
    "sns.boxplot(df1['Outlet_Type'],df1['Item_Outlet_Sales'])\n",
    "plt.xticks(rotation=90)\n",
    "plt.show()"
   ]
  },
  {
   "cell_type": "code",
   "execution_count": 30,
   "metadata": {},
   "outputs": [
    {
     "data": {
      "text/plain": [
       "Outlet_Type\n",
       "Grocery Store         339.828500\n",
       "Supermarket Type1    2316.181148\n",
       "Supermarket Type2    1995.498739\n",
       "Supermarket Type3    3694.038558\n",
       "Name: Item_Outlet_Sales, dtype: float64"
      ]
     },
     "execution_count": 30,
     "metadata": {},
     "output_type": "execute_result"
    }
   ],
   "source": [
    "df1.groupby(df1['Outlet_Type'])['Item_Outlet_Sales'].mean()\n",
    "# Sales made by supermarket 3 are way better as compared to other stores.!"
   ]
  },
  {
   "cell_type": "code",
   "execution_count": 31,
   "metadata": {},
   "outputs": [],
   "source": [
    "# Manual LE:\n",
    "df1['Outlet_Type'].replace({'Grocery Store':1,'Supermarket Type2':2,'Supermarket Type1':3,'Supermarket Type3':4},inplace=True)"
   ]
  },
  {
   "cell_type": "code",
   "execution_count": 32,
   "metadata": {},
   "outputs": [
    {
     "data": {
      "text/plain": [
       "3    5577\n",
       "1    1083\n",
       "4     935\n",
       "2     928\n",
       "Name: Outlet_Type, dtype: int64"
      ]
     },
     "execution_count": 32,
     "metadata": {},
     "output_type": "execute_result"
    }
   ],
   "source": [
    "df1['Outlet_Type'].value_counts()\n",
    "# One thing we can note that,even though the number of supermarket type 3 are less,we can observe that sales made by \n",
    "# type 3 are more as compared to any other stores!"
   ]
  },
  {
   "cell_type": "code",
   "execution_count": 33,
   "metadata": {},
   "outputs": [],
   "source": [
    "# Impute null values in Item_weight feature!"
   ]
  },
  {
   "cell_type": "code",
   "execution_count": 34,
   "metadata": {},
   "outputs": [],
   "source": [
    "# Now,we can impute the null values in item_weight by 2 ways.\n",
    "# 1st way is to simply impute them by imputing with mean\n",
    "# 2nd way is to impute by keeping 1 parameter common by using groupby"
   ]
  },
  {
   "cell_type": "code",
   "execution_count": 35,
   "metadata": {
    "scrolled": true
   },
   "outputs": [
    {
     "data": {
      "text/plain": [
       "Item_Type\n",
       "Baking Goods             12.277108\n",
       "Breads                   11.346936\n",
       "Breakfast                12.768202\n",
       "Canned                   12.305705\n",
       "Dairy                    13.426069\n",
       "Frozen Foods             12.867061\n",
       "Fruits and Vegetables    13.224769\n",
       "Hard Drinks              11.400328\n",
       "Health and Hygiene       13.142314\n",
       "Household                13.384736\n",
       "Meat                     12.817344\n",
       "Others                   13.853285\n",
       "Seafood                  12.552843\n",
       "Snack Foods              12.987880\n",
       "Soft Drinks              11.847460\n",
       "Starchy Foods            13.690731\n",
       "Name: Item_Weight, dtype: float64"
      ]
     },
     "execution_count": 35,
     "metadata": {},
     "output_type": "execute_result"
    }
   ],
   "source": [
    "df1.groupby(df1['Item_Type'])['Item_Weight'].mean()"
   ]
  },
  {
   "cell_type": "code",
   "execution_count": 36,
   "metadata": {},
   "outputs": [],
   "source": [
    "## Imputing missing values in item_weight base on item type\n",
    "# df1['Item_Weight']=df1.groupby('Item_Type').Item_Weight.apply(lambda x: x.fillna(x.mean()))\n",
    "df1['Item_Weight']=df1['Item_Weight'].fillna(df1['Item_Weight'].mean())"
   ]
  },
  {
   "cell_type": "code",
   "execution_count": 37,
   "metadata": {},
   "outputs": [
    {
     "data": {
      "text/plain": [
       "0"
      ]
     },
     "execution_count": 37,
     "metadata": {},
     "output_type": "execute_result"
    }
   ],
   "source": [
    "df1['Item_Weight'].isnull().sum()\n",
    "# Cool!,so null values are there now."
   ]
  },
  {
   "cell_type": "code",
   "execution_count": 38,
   "metadata": {},
   "outputs": [
    {
     "data": {
      "text/plain": [
       "array([1999, 2009, 1998, 1987, 1985, 2002, 2007, 1997, 2004], dtype=int64)"
      ]
     },
     "execution_count": 38,
     "metadata": {},
     "output_type": "execute_result"
    }
   ],
   "source": [
    "df1['Outlet_Establishment_Year'].unique()\n",
    "# here ,we can do 1 more thing,as order for year is fixed,we can manually convert them "
   ]
  },
  {
   "cell_type": "code",
   "execution_count": 39,
   "metadata": {},
   "outputs": [
    {
     "data": {
      "text/plain": [
       "<matplotlib.axes._subplots.AxesSubplot at 0x2e9d83d44a8>"
      ]
     },
     "execution_count": 39,
     "metadata": {},
     "output_type": "execute_result"
    },
    {
     "data": {
      "image/png": "[encoded data removed]",
      "text/plain": [
       "<Figure size 432x288 with 1 Axes>"
      ]
     },
     "metadata": {
      "needs_background": "light"
     },
     "output_type": "display_data"
    }
   ],
   "source": [
    "sns.boxplot(df1['Outlet_Establishment_Year'],df1['Item_Outlet_Sales'])\n",
    "# This is too messy!we can go for replacement,as we dont need high values"
   ]
  },
  {
   "cell_type": "code",
   "execution_count": 40,
   "metadata": {},
   "outputs": [],
   "source": [
    "x=list(set(df1['Outlet_Establishment_Year'].unique().tolist()))"
   ]
  },
  {
   "cell_type": "code",
   "execution_count": 41,
   "metadata": {},
   "outputs": [],
   "source": [
    "# conversion from year to scale of 1 to 10\n",
    "# df1['Outlet_Establishment_Year']=df1['Outlet_Establishment_Year'].replace({i:(x.index(i))+1 for i in x})"
   ]
  },
  {
   "cell_type": "code",
   "execution_count": 42,
   "metadata": {},
   "outputs": [],
   "source": [
    "# concatenating:\n",
    "df2=pd.concat([df1,a,b,c],1)"
   ]
  },
  {
   "cell_type": "code",
   "execution_count": 43,
   "metadata": {},
   "outputs": [],
   "source": [
    "df2.drop(['Item_Fat_Content','Item_Type','Outlet_Identifier'],1,inplace=True)"
   ]
  },
  {
   "cell_type": "code",
   "execution_count": 44,
   "metadata": {},
   "outputs": [],
   "source": [
    "# df2 is our final dataframe in which we will apply all the models"
   ]
  },
  {
   "cell_type": "code",
   "execution_count": 45,
   "metadata": {},
   "outputs": [
    {
     "data": {
      "text/html": [
       "<div>\n",
       "<style scoped>\n",
       "    .dataframe tbody tr th:only-of-type {\n",
       "        vertical-align: middle;\n",
       "    }\n",
       "\n",
       "    .dataframe tbody tr th {\n",
       "        vertical-align: top;\n",
       "    }\n",
       "\n",
       "    .dataframe thead th {\n",
       "        text-align: right;\n",
       "    }\n",
       "</style>\n",
       "<table border=\"1\" class=\"dataframe\">\n",
       "  <thead>\n",
       "    <tr style=\"text-align: right;\">\n",
       "      <th></th>\n",
       "      <th>Item_Weight</th>\n",
       "      <th>Item_Visibility</th>\n",
       "      <th>Item_MRP</th>\n",
       "      <th>Outlet_Establishment_Year</th>\n",
       "      <th>Outlet_Size</th>\n",
       "      <th>Outlet_Location_Type</th>\n",
       "      <th>Outlet_Type</th>\n",
       "      <th>Item_Outlet_Sales</th>\n",
       "      <th>Regular</th>\n",
       "      <th>Breads</th>\n",
       "      <th>...</th>\n",
       "      <th>Starchy Foods</th>\n",
       "      <th>OUT013</th>\n",
       "      <th>OUT017</th>\n",
       "      <th>OUT018</th>\n",
       "      <th>OUT019</th>\n",
       "      <th>OUT027</th>\n",
       "      <th>OUT035</th>\n",
       "      <th>OUT045</th>\n",
       "      <th>OUT046</th>\n",
       "      <th>OUT049</th>\n",
       "    </tr>\n",
       "  </thead>\n",
       "  <tbody>\n",
       "    <tr>\n",
       "      <th>0</th>\n",
       "      <td>9.3</td>\n",
       "      <td>0.016047</td>\n",
       "      <td>249.8092</td>\n",
       "      <td>1999</td>\n",
       "      <td>2</td>\n",
       "      <td>1</td>\n",
       "      <td>3</td>\n",
       "      <td>3735.138</td>\n",
       "      <td>0</td>\n",
       "      <td>0</td>\n",
       "      <td>...</td>\n",
       "      <td>0</td>\n",
       "      <td>0</td>\n",
       "      <td>0</td>\n",
       "      <td>0</td>\n",
       "      <td>0</td>\n",
       "      <td>0</td>\n",
       "      <td>0</td>\n",
       "      <td>0</td>\n",
       "      <td>0</td>\n",
       "      <td>1</td>\n",
       "    </tr>\n",
       "  </tbody>\n",
       "</table>\n",
       "<p>1 rows × 33 columns</p>\n",
       "</div>"
      ],
      "text/plain": [
       "   Item_Weight  Item_Visibility  Item_MRP  Outlet_Establishment_Year  \\\n",
       "0          9.3         0.016047  249.8092                       1999   \n",
       "\n",
       "   Outlet_Size  Outlet_Location_Type  Outlet_Type  Item_Outlet_Sales  Regular  \\\n",
       "0            2                     1            3           3735.138        0   \n",
       "\n",
       "   Breads  ...  Starchy Foods  OUT013  OUT017  OUT018  OUT019  OUT027  OUT035  \\\n",
       "0       0  ...              0       0       0       0       0       0       0   \n",
       "\n",
       "   OUT045  OUT046  OUT049  \n",
       "0       0       0       1  \n",
       "\n",
       "[1 rows x 33 columns]"
      ]
     },
     "execution_count": 45,
     "metadata": {},
     "output_type": "execute_result"
    }
   ],
   "source": [
    "df2.head(1)"
   ]
  },
  {
   "cell_type": "markdown",
   "metadata": {},
   "source": [
    "# Importing all the models:"
   ]
  },
  {
   "cell_type": "code",
   "execution_count": 46,
   "metadata": {},
   "outputs": [],
   "source": [
    "import numpy as np\n",
    "import pandas as pd\n",
    "import seaborn as sns\n",
    "import matplotlib.pyplot as plt\n",
    "import scipy.stats as st\n",
    "from sklearn.model_selection import train_test_split,KFold,StratifiedKFold,GridSearchCV,RandomizedSearchCV,cross_val_score\n",
    "from sklearn.ensemble import RandomForestClassifier,BaggingClassifier,AdaBoostClassifier,GradientBoostingClassifier,RandomForestRegressor,BaggingRegressor,AdaBoostRegressor,GradientBoostingRegressor\n",
    "from sklearn.linear_model import LinearRegression,LogisticRegression,Lasso, Ridge\n",
    "from sklearn.tree import DecisionTreeClassifier,DecisionTreeRegressor\n",
    "from sklearn.naive_bayes import GaussianNB\n",
    "from sklearn.neighbors import KNeighborsClassifier,KNeighborsRegressor\n",
    "import sklearn.metrics as metrics\n",
    "from sklearn.metrics import r2_score,roc_auc_score,classification_report,mean_squared_error,accuracy_score,confusion_matrix\n",
    "import warnings\n",
    "warnings.filterwarnings('ignore')"
   ]
  },
  {
   "cell_type": "markdown",
   "metadata": {},
   "source": [
    "# Testing the assumption for Linear regression"
   ]
  },
  {
   "cell_type": "code",
   "execution_count": 47,
   "metadata": {},
   "outputs": [],
   "source": [
    "from sklearn.model_selection import train_test_split"
   ]
  },
  {
   "cell_type": "code",
   "execution_count": 48,
   "metadata": {},
   "outputs": [],
   "source": [
    "X=df2.drop('Item_Outlet_Sales',1)\n",
    "y=df2['Item_Outlet_Sales']"
   ]
  },
  {
   "cell_type": "code",
   "execution_count": 49,
   "metadata": {
    "scrolled": false
   },
   "outputs": [
    {
     "data": {
      "text/html": [
       "<table class=\"simpletable\">\n",
       "<caption>OLS Regression Results</caption>\n",
       "<tr>\n",
       "  <th>Dep. Variable:</th>    <td>Item_Outlet_Sales</td> <th>  R-squared:         </th> <td>   0.564</td> \n",
       "</tr>\n",
       "<tr>\n",
       "  <th>Model:</th>                   <td>OLS</td>        <th>  Adj. R-squared:    </th> <td>   0.562</td> \n",
       "</tr>\n",
       "<tr>\n",
       "  <th>Method:</th>             <td>Least Squares</td>   <th>  F-statistic:       </th> <td>   392.0</td> \n",
       "</tr>\n",
       "<tr>\n",
       "  <th>Date:</th>             <td>Wed, 20 May 2020</td>  <th>  Prob (F-statistic):</th>  <td>  0.00</td>  \n",
       "</tr>\n",
       "<tr>\n",
       "  <th>Time:</th>                 <td>08:07:44</td>      <th>  Log-Likelihood:    </th> <td> -71988.</td> \n",
       "</tr>\n",
       "<tr>\n",
       "  <th>No. Observations:</th>      <td>  8523</td>       <th>  AIC:               </th> <td>1.440e+05</td>\n",
       "</tr>\n",
       "<tr>\n",
       "  <th>Df Residuals:</th>          <td>  8494</td>       <th>  BIC:               </th> <td>1.442e+05</td>\n",
       "</tr>\n",
       "<tr>\n",
       "  <th>Df Model:</th>              <td>    28</td>       <th>                     </th>     <td> </td>    \n",
       "</tr>\n",
       "<tr>\n",
       "  <th>Covariance Type:</th>      <td>nonrobust</td>     <th>                     </th>     <td> </td>    \n",
       "</tr>\n",
       "</table>\n",
       "<table class=\"simpletable\">\n",
       "<tr>\n",
       "              <td></td>                 <th>coef</th>     <th>std err</th>      <th>t</th>      <th>P>|t|</th>  <th>[0.025</th>    <th>0.975]</th>  \n",
       "</tr>\n",
       "<tr>\n",
       "  <th>const</th>                     <td>   -1.7891</td> <td>    0.455</td> <td>   -3.931</td> <td> 0.000</td> <td>   -2.681</td> <td>   -0.897</td>\n",
       "</tr>\n",
       "<tr>\n",
       "  <th>Item_Weight</th>               <td>   -0.5076</td> <td>    2.915</td> <td>   -0.174</td> <td> 0.862</td> <td>   -6.221</td> <td>    5.206</td>\n",
       "</tr>\n",
       "<tr>\n",
       "  <th>Item_Visibility</th>           <td> -304.4402</td> <td>  248.715</td> <td>   -1.224</td> <td> 0.221</td> <td> -791.983</td> <td>  183.102</td>\n",
       "</tr>\n",
       "<tr>\n",
       "  <th>Item_MRP</th>                  <td>   15.5652</td> <td>    0.198</td> <td>   78.739</td> <td> 0.000</td> <td>   15.178</td> <td>   15.953</td>\n",
       "</tr>\n",
       "<tr>\n",
       "  <th>Outlet_Establishment_Year</th> <td>   -1.4073</td> <td>    0.046</td> <td>  -30.695</td> <td> 0.000</td> <td>   -1.497</td> <td>   -1.317</td>\n",
       "</tr>\n",
       "<tr>\n",
       "  <th>Outlet_Size</th>               <td>   -7.6910</td> <td>   18.753</td> <td>   -0.410</td> <td> 0.682</td> <td>  -44.452</td> <td>   29.070</td>\n",
       "</tr>\n",
       "<tr>\n",
       "  <th>Outlet_Location_Type</th>      <td>    1.3971</td> <td>   14.555</td> <td>    0.096</td> <td> 0.924</td> <td>  -27.134</td> <td>   29.928</td>\n",
       "</tr>\n",
       "<tr>\n",
       "  <th>Outlet_Type</th>               <td> 1004.1119</td> <td>   23.000</td> <td>   43.658</td> <td> 0.000</td> <td>  959.027</td> <td> 1049.197</td>\n",
       "</tr>\n",
       "<tr>\n",
       "  <th>Regular</th>                   <td>   40.6338</td> <td>   28.229</td> <td>    1.439</td> <td> 0.150</td> <td>  -14.703</td> <td>   95.970</td>\n",
       "</tr>\n",
       "<tr>\n",
       "  <th>Breads</th>                    <td>    5.1382</td> <td>   84.044</td> <td>    0.061</td> <td> 0.951</td> <td> -159.608</td> <td>  169.885</td>\n",
       "</tr>\n",
       "<tr>\n",
       "  <th>Breakfast</th>                 <td>    7.5359</td> <td>  116.602</td> <td>    0.065</td> <td> 0.948</td> <td> -221.033</td> <td>  236.105</td>\n",
       "</tr>\n",
       "<tr>\n",
       "  <th>Canned</th>                    <td>   25.5284</td> <td>   62.766</td> <td>    0.407</td> <td> 0.684</td> <td>  -97.508</td> <td>  148.565</td>\n",
       "</tr>\n",
       "<tr>\n",
       "  <th>Dairy</th>                     <td>  -40.7147</td> <td>   62.226</td> <td>   -0.654</td> <td> 0.513</td> <td> -162.693</td> <td>   81.264</td>\n",
       "</tr>\n",
       "<tr>\n",
       "  <th>Frozen Foods</th>              <td>  -28.0245</td> <td>   58.866</td> <td>   -0.476</td> <td> 0.634</td> <td> -143.415</td> <td>   87.366</td>\n",
       "</tr>\n",
       "<tr>\n",
       "  <th>Fruits and Vegetables</th>     <td>   29.8086</td> <td>   54.957</td> <td>    0.542</td> <td> 0.588</td> <td>  -77.920</td> <td>  137.538</td>\n",
       "</tr>\n",
       "<tr>\n",
       "  <th>Hard Drinks</th>               <td>   -0.3178</td> <td>   90.185</td> <td>   -0.004</td> <td> 0.997</td> <td> -177.102</td> <td>  176.467</td>\n",
       "</tr>\n",
       "<tr>\n",
       "  <th>Health and Hygiene</th>        <td>  -10.6230</td> <td>   68.010</td> <td>   -0.156</td> <td> 0.876</td> <td> -143.938</td> <td>  122.693</td>\n",
       "</tr>\n",
       "<tr>\n",
       "  <th>Household</th>                 <td>  -39.2674</td> <td>   59.920</td> <td>   -0.655</td> <td> 0.512</td> <td> -156.725</td> <td>   78.190</td>\n",
       "</tr>\n",
       "<tr>\n",
       "  <th>Meat</th>                      <td>   -0.4540</td> <td>   70.647</td> <td>   -0.006</td> <td> 0.995</td> <td> -138.939</td> <td>  138.031</td>\n",
       "</tr>\n",
       "<tr>\n",
       "  <th>Others</th>                    <td>  -21.5785</td> <td>   98.616</td> <td>   -0.219</td> <td> 0.827</td> <td> -214.889</td> <td>  171.732</td>\n",
       "</tr>\n",
       "<tr>\n",
       "  <th>Seafood</th>                   <td>  184.8704</td> <td>  148.004</td> <td>    1.249</td> <td> 0.212</td> <td> -105.253</td> <td>  474.994</td>\n",
       "</tr>\n",
       "<tr>\n",
       "  <th>Snack Foods</th>               <td>  -11.4059</td> <td>   55.247</td> <td>   -0.206</td> <td> 0.836</td> <td> -119.704</td> <td>   96.892</td>\n",
       "</tr>\n",
       "<tr>\n",
       "  <th>Soft Drinks</th>               <td>  -27.7527</td> <td>   70.168</td> <td>   -0.396</td> <td> 0.692</td> <td> -165.299</td> <td>  109.794</td>\n",
       "</tr>\n",
       "<tr>\n",
       "  <th>Starchy Foods</th>             <td>   21.4338</td> <td>  103.035</td> <td>    0.208</td> <td> 0.835</td> <td> -180.540</td> <td>  223.407</td>\n",
       "</tr>\n",
       "<tr>\n",
       "  <th>OUT013</th>                    <td>  -79.0246</td> <td>   31.218</td> <td>   -2.531</td> <td> 0.011</td> <td> -140.220</td> <td>  -17.829</td>\n",
       "</tr>\n",
       "<tr>\n",
       "  <th>OUT017</th>                    <td>   13.3770</td> <td>   33.840</td> <td>    0.395</td> <td> 0.693</td> <td>  -52.957</td> <td>   79.711</td>\n",
       "</tr>\n",
       "<tr>\n",
       "  <th>OUT018</th>                    <td>  639.8976</td> <td>   45.467</td> <td>   14.074</td> <td> 0.000</td> <td>  550.771</td> <td>  729.024</td>\n",
       "</tr>\n",
       "<tr>\n",
       "  <th>OUT019</th>                    <td>   -6.5099</td> <td>   50.572</td> <td>   -0.129</td> <td> 0.898</td> <td> -105.643</td> <td>   92.623</td>\n",
       "</tr>\n",
       "<tr>\n",
       "  <th>OUT027</th>                    <td>  324.7999</td> <td>   35.921</td> <td>    9.042</td> <td> 0.000</td> <td>  254.385</td> <td>  395.215</td>\n",
       "</tr>\n",
       "<tr>\n",
       "  <th>OUT035</th>                    <td>   41.0897</td> <td>   25.481</td> <td>    1.613</td> <td> 0.107</td> <td>   -8.859</td> <td>   91.038</td>\n",
       "</tr>\n",
       "<tr>\n",
       "  <th>OUT045</th>                    <td> -167.8208</td> <td>   33.752</td> <td>   -4.972</td> <td> 0.000</td> <td> -233.982</td> <td> -101.659</td>\n",
       "</tr>\n",
       "<tr>\n",
       "  <th>OUT046</th>                    <td> -109.4916</td> <td>   30.638</td> <td>   -3.574</td> <td> 0.000</td> <td> -169.549</td> <td>  -49.434</td>\n",
       "</tr>\n",
       "<tr>\n",
       "  <th>OUT049</th>                    <td>   -2.3278</td> <td>   30.022</td> <td>   -0.078</td> <td> 0.938</td> <td>  -61.179</td> <td>   56.523</td>\n",
       "</tr>\n",
       "</table>\n",
       "<table class=\"simpletable\">\n",
       "<tr>\n",
       "  <th>Omnibus:</th>       <td>965.882</td> <th>  Durbin-Watson:     </th> <td>   2.004</td>\n",
       "</tr>\n",
       "<tr>\n",
       "  <th>Prob(Omnibus):</th> <td> 0.000</td>  <th>  Jarque-Bera (JB):  </th> <td>2312.779</td>\n",
       "</tr>\n",
       "<tr>\n",
       "  <th>Skew:</th>          <td> 0.669</td>  <th>  Prob(JB):          </th> <td>    0.00</td>\n",
       "</tr>\n",
       "<tr>\n",
       "  <th>Kurtosis:</th>      <td> 5.173</td>  <th>  Cond. No.          </th> <td>1.00e+18</td>\n",
       "</tr>\n",
       "</table><br/><br/>Warnings:<br/>[1] Standard Errors assume that the covariance matrix of the errors is correctly specified.<br/>[2] The smallest eigenvalue is 3.39e-26. This might indicate that there are<br/>strong multicollinearity problems or that the design matrix is singular."
      ],
      "text/plain": [
       "<class 'statsmodels.iolib.summary.Summary'>\n",
       "\"\"\"\n",
       "                            OLS Regression Results                            \n",
       "==============================================================================\n",
       "Dep. Variable:      Item_Outlet_Sales   R-squared:                       0.564\n",
       "Model:                            OLS   Adj. R-squared:                  0.562\n",
       "Method:                 Least Squares   F-statistic:                     392.0\n",
       "Date:                Wed, 20 May 2020   Prob (F-statistic):               0.00\n",
       "Time:                        08:07:44   Log-Likelihood:                -71988.\n",
       "No. Observations:                8523   AIC:                         1.440e+05\n",
       "Df Residuals:                    8494   BIC:                         1.442e+05\n",
       "Df Model:                          28                                         \n",
       "Covariance Type:            nonrobust                                         \n",
       "=============================================================================================\n",
       "                                coef    std err          t      P>|t|      [0.025      0.975]\n",
       "---------------------------------------------------------------------------------------------\n",
       "const                        -1.7891      0.455     -3.931      0.000      -2.681      -0.897\n",
       "Item_Weight                  -0.5076      2.915     -0.174      0.862      -6.221       5.206\n",
       "Item_Visibility            -304.4402    248.715     -1.224      0.221    -791.983     183.102\n",
       "Item_MRP                     15.5652      0.198     78.739      0.000      15.178      15.953\n",
       "Outlet_Establishment_Year    -1.4073      0.046    -30.695      0.000      -1.497      -1.317\n",
       "Outlet_Size                  -7.6910     18.753     -0.410      0.682     -44.452      29.070\n",
       "Outlet_Location_Type          1.3971     14.555      0.096      0.924     -27.134      29.928\n",
       "Outlet_Type                1004.1119     23.000     43.658      0.000     959.027    1049.197\n",
       "Regular                      40.6338     28.229      1.439      0.150     -14.703      95.970\n",
       "Breads                        5.1382     84.044      0.061      0.951    -159.608     169.885\n",
       "Breakfast                     7.5359    116.602      0.065      0.948    -221.033     236.105\n",
       "Canned                       25.5284     62.766      0.407      0.684     -97.508     148.565\n",
       "Dairy                       -40.7147     62.226     -0.654      0.513    -162.693      81.264\n",
       "Frozen Foods                -28.0245     58.866     -0.476      0.634    -143.415      87.366\n",
       "Fruits and Vegetables        29.8086     54.957      0.542      0.588     -77.920     137.538\n",
       "Hard Drinks                  -0.3178     90.185     -0.004      0.997    -177.102     176.467\n",
       "Health and Hygiene          -10.6230     68.010     -0.156      0.876    -143.938     122.693\n",
       "Household                   -39.2674     59.920     -0.655      0.512    -156.725      78.190\n",
       "Meat                         -0.4540     70.647     -0.006      0.995    -138.939     138.031\n",
       "Others                      -21.5785     98.616     -0.219      0.827    -214.889     171.732\n",
       "Seafood                     184.8704    148.004      1.249      0.212    -105.253     474.994\n",
       "Snack Foods                 -11.4059     55.247     -0.206      0.836    -119.704      96.892\n",
       "Soft Drinks                 -27.7527     70.168     -0.396      0.692    -165.299     109.794\n",
       "Starchy Foods                21.4338    103.035      0.208      0.835    -180.540     223.407\n",
       "OUT013                      -79.0246     31.218     -2.531      0.011    -140.220     -17.829\n",
       "OUT017                       13.3770     33.840      0.395      0.693     -52.957      79.711\n",
       "OUT018                      639.8976     45.467     14.074      0.000     550.771     729.024\n",
       "OUT019                       -6.5099     50.572     -0.129      0.898    -105.643      92.623\n",
       "OUT027                      324.7999     35.921      9.042      0.000     254.385     395.215\n",
       "OUT035                       41.0897     25.481      1.613      0.107      -8.859      91.038\n",
       "OUT045                     -167.8208     33.752     -4.972      0.000    -233.982    -101.659\n",
       "OUT046                     -109.4916     30.638     -3.574      0.000    -169.549     -49.434\n",
       "OUT049                       -2.3278     30.022     -0.078      0.938     -61.179      56.523\n",
       "==============================================================================\n",
       "Omnibus:                      965.882   Durbin-Watson:                   2.004\n",
       "Prob(Omnibus):                  0.000   Jarque-Bera (JB):             2312.779\n",
       "Skew:                           0.669   Prob(JB):                         0.00\n",
       "Kurtosis:                       5.173   Cond. No.                     1.00e+18\n",
       "==============================================================================\n",
       "\n",
       "Warnings:\n",
       "[1] Standard Errors assume that the covariance matrix of the errors is correctly specified.\n",
       "[2] The smallest eigenvalue is 3.39e-26. This might indicate that there are\n",
       "strong multicollinearity problems or that the design matrix is singular.\n",
       "\"\"\""
      ]
     },
     "execution_count": 49,
     "metadata": {},
     "output_type": "execute_result"
    }
   ],
   "source": [
    "# Lets build base model first:[OLS using stats]\n",
    "import statsmodels.api as sm\n",
    "X=df2.drop('Item_Outlet_Sales',1)\n",
    "y=df2['Item_Outlet_Sales']\n",
    "Xc=sm.add_constant(X)\n",
    "model = sm.OLS(y, Xc).fit()\n",
    "model.summary()"
   ]
  },
  {
   "cell_type": "markdown",
   "metadata": {},
   "source": [
    "#### 1 - Autocorrelation :"
   ]
  },
  {
   "cell_type": "code",
   "execution_count": 50,
   "metadata": {},
   "outputs": [
    {
     "data": {
      "image/png": "[encoded data removed]",
      "text/plain": [
       "<Figure size 432x288 with 1 Axes>"
      ]
     },
     "metadata": {
      "needs_background": "light"
     },
     "output_type": "display_data"
    }
   ],
   "source": [
    "\n",
    "# As we can observe that base model is not giving good accuracy in terms of r2 score.\n",
    "# we can also see that durbin-watson score is good enough(Approx close to 2)meaning that there is no autocorrelation\n",
    "# between residuals\n",
    "import statsmodels.tsa.api as smt\n",
    "acf = smt.graphics.plot_acf(model.resid, lags=30 , alpha=0.05)\n",
    "acf.show()\n",
    "# So, we can see that all lines are within blue boundary indicating that there is almost no autocorrelation\n",
    "# between input variables.\n",
    "# Also,durbin watson value is closer to 2 meaning that there is no autocorrelation.\n",
    "# To summarize:\n",
    "#      0-2 : +ve autocorrelation\n",
    "#      closer to 2 : Little or No Autocorrelation\n",
    "#      2-4 : -ve autocorrelation"
   ]
  },
  {
   "cell_type": "markdown",
   "metadata": {},
   "source": [
    "#### Assumption 2 : Normality of residuals:[using jarque berra test]:"
   ]
  },
  {
   "cell_type": "code",
   "execution_count": 51,
   "metadata": {},
   "outputs": [
    {
     "name": "stdout",
     "output_type": "stream",
     "text": [
      "(2312.7794069568918, 0.0)\n",
      "chisquare stat critical 5.991464547107983\n"
     ]
    },
    {
     "data": {
      "text/plain": [
       "<matplotlib.axes._subplots.AxesSubplot at 0x2e9d93a4e48>"
      ]
     },
     "execution_count": 51,
     "metadata": {},
     "output_type": "execute_result"
    },
    {
     "data": {
      "image/png": "[encoded data removed]",
      "text/plain": [
       "<Figure size 432x288 with 1 Axes>"
      ]
     },
     "metadata": {
      "needs_background": "light"
     },
     "output_type": "display_data"
    }
   ],
   "source": [
    "from scipy import stats\n",
    "print(stats.jarque_bera(model.resid))\n",
    "print('chisquare stat critical',stats.chi2.isf(0.05,2))\n",
    "# Framing hypothesis:\n",
    "# H0- Errors/residual are normally distributed\n",
    "# HA- Errors/residuals are not normally distributed\n",
    "## from output of p value as p-val < alpha, we reject null hypothesis and accept alternate hypothesis.\n",
    "# we can say that errors are not normally distributed with statistical certainty.\n",
    "# Also, from JB statistic,we can see that it is much higher than 6,so it definitely lies in critical region,So,\n",
    "# Reject null hypothesis there as well.\n",
    "sns.distplot(model.resid)"
   ]
  },
  {
   "cell_type": "markdown",
   "metadata": {},
   "source": [
    "#### Assumption 3: Linearity of residuals:"
   ]
  },
  {
   "cell_type": "code",
   "execution_count": 52,
   "metadata": {},
   "outputs": [
    {
     "name": "stdout",
     "output_type": "stream",
     "text": [
      "(1.0833526818749006, 0.004552889527116039)\n"
     ]
    },
    {
     "data": {
      "image/png": "[encoded data removed]",
      "text/plain": [
       "<Figure size 432x288 with 1 Axes>"
      ]
     },
     "metadata": {
      "needs_background": "light"
     },
     "output_type": "display_data"
    }
   ],
   "source": [
    "\n",
    "import statsmodels.api as sm\n",
    "print(sm.stats.diagnostic.linear_rainbow(res=model, frac=0.5))\n",
    "# H0 -errors are linear \n",
    "# HA- errors are not linear\n",
    "# So, p value < alpha ,we reject null hypothesis,i.e- errors/residual are not normal.\n",
    "from statsmodels.graphics.gofplots import ProbPlot\n",
    "import pylab\n",
    "st_residual = model.get_influence().resid_studentized_internal\n",
    "stats.probplot(st_residual, dist=\"norm\", plot = pylab)\n",
    "plt.show()\n",
    "\n",
    "# Also,the graph shows plot is not following linearity.\n",
    "# As, p value is less than alpha,we reject null hypothesis.So,we can say with statistical certainty that\n",
    "# errors are not linear which means that linear models will not work efficiently."
   ]
  },
  {
   "cell_type": "markdown",
   "metadata": {},
   "source": [
    "#### Assumption 4 : homoscedastic"
   ]
  },
  {
   "cell_type": "code",
   "execution_count": 53,
   "metadata": {},
   "outputs": [
    {
     "data": {
      "text/plain": [
       "[('F statistic', 0.9946173840447672), ('p-value', 0.569676818694325)]"
      ]
     },
     "execution_count": 53,
     "metadata": {},
     "output_type": "execute_result"
    }
   ],
   "source": [
    "# H0- Data is homoscedastic [ constant variance across the data] \n",
    "# HA- Data is heteroscedastic [No constant variance across the data] \n",
    "from statsmodels.compat import lzip\n",
    "import statsmodels.stats.api as sms\n",
    "name = ['F statistic', 'p-value']\n",
    "test = sms.het_goldfeldquandt(model.resid, model.model.exog)\n",
    "lzip(name, test)\n",
    "# Since,P value > alpha ,we fail to reject null hypothesis.\n",
    "# here,we can say that data is homoscedastic."
   ]
  },
  {
   "cell_type": "markdown",
   "metadata": {},
   "source": [
    "\n",
    "#### Assumption 5- Multicollinearity:"
   ]
  },
  {
   "cell_type": "code",
   "execution_count": 54,
   "metadata": {},
   "outputs": [
    {
     "data": {
      "text/html": [
       "<div>\n",
       "<style scoped>\n",
       "    .dataframe tbody tr th:only-of-type {\n",
       "        vertical-align: middle;\n",
       "    }\n",
       "\n",
       "    .dataframe tbody tr th {\n",
       "        vertical-align: top;\n",
       "    }\n",
       "\n",
       "    .dataframe thead th {\n",
       "        text-align: right;\n",
       "    }\n",
       "</style>\n",
       "<table border=\"1\" class=\"dataframe\">\n",
       "  <thead>\n",
       "    <tr style=\"text-align: right;\">\n",
       "      <th></th>\n",
       "      <th>Item_Weight</th>\n",
       "      <th>Item_Visibility</th>\n",
       "      <th>Item_MRP</th>\n",
       "      <th>Outlet_Establishment_Year</th>\n",
       "      <th>Outlet_Size</th>\n",
       "      <th>Outlet_Location_Type</th>\n",
       "      <th>Outlet_Type</th>\n",
       "      <th>Regular</th>\n",
       "      <th>Breads</th>\n",
       "      <th>Breakfast</th>\n",
       "      <th>...</th>\n",
       "      <th>Starchy Foods</th>\n",
       "      <th>OUT013</th>\n",
       "      <th>OUT017</th>\n",
       "      <th>OUT018</th>\n",
       "      <th>OUT019</th>\n",
       "      <th>OUT027</th>\n",
       "      <th>OUT035</th>\n",
       "      <th>OUT045</th>\n",
       "      <th>OUT046</th>\n",
       "      <th>OUT049</th>\n",
       "    </tr>\n",
       "  </thead>\n",
       "  <tbody>\n",
       "    <tr>\n",
       "      <th>vif</th>\n",
       "      <td>1.014446</td>\n",
       "      <td>1.101152</td>\n",
       "      <td>1.01331</td>\n",
       "      <td>inf</td>\n",
       "      <td>inf</td>\n",
       "      <td>inf</td>\n",
       "      <td>inf</td>\n",
       "      <td>1.216577</td>\n",
       "      <td>1.350023</td>\n",
       "      <td>1.158253</td>\n",
       "      <td>...</td>\n",
       "      <td>1.211323</td>\n",
       "      <td>inf</td>\n",
       "      <td>inf</td>\n",
       "      <td>inf</td>\n",
       "      <td>inf</td>\n",
       "      <td>inf</td>\n",
       "      <td>inf</td>\n",
       "      <td>inf</td>\n",
       "      <td>inf</td>\n",
       "      <td>inf</td>\n",
       "    </tr>\n",
       "  </tbody>\n",
       "</table>\n",
       "<p>1 rows × 32 columns</p>\n",
       "</div>"
      ],
      "text/plain": [
       "     Item_Weight  Item_Visibility  Item_MRP  Outlet_Establishment_Year  \\\n",
       "vif     1.014446         1.101152   1.01331                        inf   \n",
       "\n",
       "     Outlet_Size  Outlet_Location_Type  Outlet_Type   Regular    Breads  \\\n",
       "vif          inf                   inf          inf  1.216577  1.350023   \n",
       "\n",
       "     Breakfast  ...  Starchy Foods  OUT013  OUT017  OUT018  OUT019  OUT027  \\\n",
       "vif   1.158253  ...       1.211323     inf     inf     inf     inf     inf   \n",
       "\n",
       "     OUT035  OUT045  OUT046  OUT049  \n",
       "vif     inf     inf     inf     inf  \n",
       "\n",
       "[1 rows x 32 columns]"
      ]
     },
     "execution_count": 54,
     "metadata": {},
     "output_type": "execute_result"
    }
   ],
   "source": [
    "from statsmodels.stats.outliers_influence import variance_inflation_factor\n",
    "\n",
    "vif = [variance_inflation_factor(Xc.values, i) for i in range(Xc.shape[1])]\n",
    "pd.DataFrame({'vif': vif[1:]}, index=X.columns).T\n",
    "\n",
    "## So,Multicollinearity does not exist.\n",
    "## All the values of vif are below 5.So there is no multicollinearity"
   ]
  },
  {
   "cell_type": "code",
   "execution_count": 55,
   "metadata": {},
   "outputs": [
    {
     "name": "stdout",
     "output_type": "stream",
     "text": [
      "r2_score on training data:  0.5636260325026186\n",
      "r2_score on testing data:  0.5621157222193849\n",
      "RMSE on training data:  1115.0392564656654\n",
      "RMSE on testing data:  1176.4361604517449\n"
     ]
    }
   ],
   "source": [
    "# Trying with Linear regression:\n",
    "X=df2.drop('Item_Outlet_Sales',1)\n",
    "y=df2['Item_Outlet_Sales']\n",
    "Xc=sm.add_constant(X)\n",
    "\n",
    "#Splitting X&y using train_test:\n",
    "X_train,X_test,y_train,y_test=train_test_split(X,y,test_size=.2,random_state=8)\n",
    "\n",
    "## only linear regression:\n",
    "\n",
    "linreg=LinearRegression()\n",
    "linreg.fit(X_train,y_train)\n",
    "y_tr_pred=linreg.predict(X_train)\n",
    "y_test_pred=linreg.predict(X_test)\n",
    "\n",
    "# training data & testing data accuracy:\n",
    "print('r2_score on training data: ',r2_score(y_train,y_tr_pred)) #train\n",
    "print('r2_score on testing data: ',r2_score(y_test,y_test_pred)) #test\n",
    "\n",
    "# RMSE for train & test:\n",
    "print('RMSE on training data: ',np.sqrt(mean_squared_error(y_train,y_tr_pred)))  #train\n",
    "print('RMSE on testing data: ',np.sqrt(mean_squared_error(y_test,y_test_pred))) #test\n",
    "\n",
    "# The model seems to be underfit for linear regression.Its not giving very good results"
   ]
  },
  {
   "cell_type": "code",
   "execution_count": 56,
   "metadata": {},
   "outputs": [
    {
     "data": {
      "text/html": [
       "<div>\n",
       "<style scoped>\n",
       "    .dataframe tbody tr th:only-of-type {\n",
       "        vertical-align: middle;\n",
       "    }\n",
       "\n",
       "    .dataframe tbody tr th {\n",
       "        vertical-align: top;\n",
       "    }\n",
       "\n",
       "    .dataframe thead th {\n",
       "        text-align: right;\n",
       "    }\n",
       "</style>\n",
       "<table border=\"1\" class=\"dataframe\">\n",
       "  <thead>\n",
       "    <tr style=\"text-align: right;\">\n",
       "      <th></th>\n",
       "      <th>names</th>\n",
       "      <th>training</th>\n",
       "      <th>testing</th>\n",
       "      <th>rmse</th>\n",
       "    </tr>\n",
       "  </thead>\n",
       "  <tbody>\n",
       "    <tr>\n",
       "      <th>0</th>\n",
       "      <td>LR</td>\n",
       "      <td>0.558578</td>\n",
       "      <td>0.574227</td>\n",
       "      <td>1113.694595</td>\n",
       "    </tr>\n",
       "    <tr>\n",
       "      <th>1</th>\n",
       "      <td>RF</td>\n",
       "      <td>0.937283</td>\n",
       "      <td>0.569448</td>\n",
       "      <td>1119.927639</td>\n",
       "    </tr>\n",
       "    <tr>\n",
       "      <th>2</th>\n",
       "      <td>KNN</td>\n",
       "      <td>0.649122</td>\n",
       "      <td>0.493717</td>\n",
       "      <td>1214.433386</td>\n",
       "    </tr>\n",
       "    <tr>\n",
       "      <th>3</th>\n",
       "      <td>DT</td>\n",
       "      <td>1.000000</td>\n",
       "      <td>0.220728</td>\n",
       "      <td>1506.681691</td>\n",
       "    </tr>\n",
       "  </tbody>\n",
       "</table>\n",
       "</div>"
      ],
      "text/plain": [
       "  names  training   testing         rmse\n",
       "0    LR  0.558578  0.574227  1113.694595\n",
       "1    RF  0.937283  0.569448  1119.927639\n",
       "2   KNN  0.649122  0.493717  1214.433386\n",
       "3    DT  1.000000  0.220728  1506.681691"
      ]
     },
     "execution_count": 56,
     "metadata": {},
     "output_type": "execute_result"
    }
   ],
   "source": [
    "#set seed for same results everytime#with Outlet_Identifier\n",
    "seed=0\n",
    "import sklearn.ensemble as ensemble\n",
    "import sklearn.metrics as metrics\n",
    "\n",
    "\n",
    "X=df2.drop('Item_Outlet_Sales',1)\n",
    "y=df2['Item_Outlet_Sales']\n",
    "X_train, X_test, y_train, y_test = train_test_split(X,y, test_size = 0.3, random_state =3)\n",
    "\n",
    "#declare the models\n",
    "LR=LinearRegression()\n",
    "KNN = KNeighborsRegressor()\n",
    "DT =DecisionTreeRegressor()\n",
    "RF = RandomForestRegressor()\n",
    "\n",
    "\n",
    "models=[LR,KNN,DT,RF]\n",
    "sctr,scte,rmse=[],[],[]\n",
    "def ens(X_train,X_test, y_train, y_test):\n",
    "    for model in models:\n",
    "            model.fit(X_train, y_train)\n",
    "            y_test_pred = model.predict(X_test)\n",
    "            train_score=model.score(X_train,y_train)\n",
    "            test_score=model.score(X_test,y_test)\n",
    "            mse=metrics.mean_squared_error(y_test,y_test_pred)\n",
    "            mse=np.sqrt(mse)\n",
    "            sctr.append(train_score)\n",
    "            scte.append(test_score)\n",
    "            rmse.append(mse)\n",
    "    return sctr,scte\n",
    "ens(X_train,X_test, y_train, y_test)\n",
    "\n",
    "ensemble=pd.DataFrame({'names':['LR','KNN','DT','RF'],'training':sctr,'testing':scte,'rmse':rmse})\n",
    "ensemble=ensemble.sort_values(by=['testing','rmse'],ascending=False).reset_index(drop=True)\n",
    "ensemble"
   ]
  },
  {
   "cell_type": "code",
   "execution_count": 57,
   "metadata": {
    "scrolled": true
   },
   "outputs": [
    {
     "data": {
      "text/html": [
       "<div>\n",
       "<style scoped>\n",
       "    .dataframe tbody tr th:only-of-type {\n",
       "        vertical-align: middle;\n",
       "    }\n",
       "\n",
       "    .dataframe tbody tr th {\n",
       "        vertical-align: top;\n",
       "    }\n",
       "\n",
       "    .dataframe thead th {\n",
       "        text-align: right;\n",
       "    }\n",
       "</style>\n",
       "<table border=\"1\" class=\"dataframe\">\n",
       "  <thead>\n",
       "    <tr style=\"text-align: right;\">\n",
       "      <th></th>\n",
       "      <th>Item_Weight</th>\n",
       "      <th>Item_Visibility</th>\n",
       "      <th>Item_MRP</th>\n",
       "      <th>Outlet_Establishment_Year</th>\n",
       "      <th>Outlet_Size</th>\n",
       "      <th>Outlet_Location_Type</th>\n",
       "      <th>Outlet_Type</th>\n",
       "      <th>Item_Outlet_Sales</th>\n",
       "      <th>Regular</th>\n",
       "      <th>Breads</th>\n",
       "      <th>...</th>\n",
       "      <th>Fruits and Vegetables</th>\n",
       "      <th>Hard Drinks</th>\n",
       "      <th>Health and Hygiene</th>\n",
       "      <th>Household</th>\n",
       "      <th>Meat</th>\n",
       "      <th>Others</th>\n",
       "      <th>Seafood</th>\n",
       "      <th>Snack Foods</th>\n",
       "      <th>Soft Drinks</th>\n",
       "      <th>Starchy Foods</th>\n",
       "    </tr>\n",
       "  </thead>\n",
       "  <tbody>\n",
       "    <tr>\n",
       "      <th>0</th>\n",
       "      <td>9.3</td>\n",
       "      <td>0.016047</td>\n",
       "      <td>249.8092</td>\n",
       "      <td>1999</td>\n",
       "      <td>2</td>\n",
       "      <td>1</td>\n",
       "      <td>3</td>\n",
       "      <td>3735.138</td>\n",
       "      <td>0</td>\n",
       "      <td>0</td>\n",
       "      <td>...</td>\n",
       "      <td>0</td>\n",
       "      <td>0</td>\n",
       "      <td>0</td>\n",
       "      <td>0</td>\n",
       "      <td>0</td>\n",
       "      <td>0</td>\n",
       "      <td>0</td>\n",
       "      <td>0</td>\n",
       "      <td>0</td>\n",
       "      <td>0</td>\n",
       "    </tr>\n",
       "  </tbody>\n",
       "</table>\n",
       "<p>1 rows × 24 columns</p>\n",
       "</div>"
      ],
      "text/plain": [
       "   Item_Weight  Item_Visibility  Item_MRP  Outlet_Establishment_Year  \\\n",
       "0          9.3         0.016047  249.8092                       1999   \n",
       "\n",
       "   Outlet_Size  Outlet_Location_Type  Outlet_Type  Item_Outlet_Sales  Regular  \\\n",
       "0            2                     1            3           3735.138        0   \n",
       "\n",
       "   Breads  ...  Fruits and Vegetables  Hard Drinks  Health and Hygiene  \\\n",
       "0       0  ...                      0            0                   0   \n",
       "\n",
       "   Household  Meat  Others  Seafood  Snack Foods  Soft Drinks  Starchy Foods  \n",
       "0          0     0       0        0            0            0              0  \n",
       "\n",
       "[1 rows x 24 columns]"
      ]
     },
     "execution_count": 57,
     "metadata": {},
     "output_type": "execute_result"
    }
   ],
   "source": [
    "df2.iloc[:,:-9].head(1)"
   ]
  },
  {
   "cell_type": "code",
   "execution_count": 58,
   "metadata": {},
   "outputs": [
    {
     "name": "stdout",
     "output_type": "stream",
     "text": [
      "{'min_samples_leaf': 14, 'max_depth': 6}\n"
     ]
    }
   ],
   "source": [
    "dt = DecisionTreeRegressor(random_state=0)\n",
    "dt_params = {'max_depth':np.arange(1,15), 'min_samples_leaf':np.arange(2,15)}\n",
    "rscv_dt =RandomizedSearchCV(dt, dt_params, cv=3, scoring='neg_mean_squared_error')\n",
    "rscv_dt.fit(X, y)\n",
    "print(rscv_dt.best_params_)"
   ]
  },
  {
   "cell_type": "code",
   "execution_count": 59,
   "metadata": {
    "scrolled": false
   },
   "outputs": [
    {
     "data": {
      "text/html": [
       "<div>\n",
       "<style scoped>\n",
       "    .dataframe tbody tr th:only-of-type {\n",
       "        vertical-align: middle;\n",
       "    }\n",
       "\n",
       "    .dataframe tbody tr th {\n",
       "        vertical-align: top;\n",
       "    }\n",
       "\n",
       "    .dataframe thead th {\n",
       "        text-align: right;\n",
       "    }\n",
       "</style>\n",
       "<table border=\"1\" class=\"dataframe\">\n",
       "  <thead>\n",
       "    <tr style=\"text-align: right;\">\n",
       "      <th></th>\n",
       "      <th>names</th>\n",
       "      <th>training</th>\n",
       "      <th>testing</th>\n",
       "      <th>rmse</th>\n",
       "    </tr>\n",
       "  </thead>\n",
       "  <tbody>\n",
       "    <tr>\n",
       "      <th>0</th>\n",
       "      <td>DT</td>\n",
       "      <td>0.615424</td>\n",
       "      <td>0.582429</td>\n",
       "      <td>1105.519369</td>\n",
       "    </tr>\n",
       "    <tr>\n",
       "      <th>1</th>\n",
       "      <td>RF</td>\n",
       "      <td>0.936955</td>\n",
       "      <td>0.555722</td>\n",
       "      <td>1140.324162</td>\n",
       "    </tr>\n",
       "    <tr>\n",
       "      <th>2</th>\n",
       "      <td>LR</td>\n",
       "      <td>0.546353</td>\n",
       "      <td>0.543273</td>\n",
       "      <td>1156.190519</td>\n",
       "    </tr>\n",
       "    <tr>\n",
       "      <th>3</th>\n",
       "      <td>KNN</td>\n",
       "      <td>0.649795</td>\n",
       "      <td>0.454459</td>\n",
       "      <td>1263.614194</td>\n",
       "    </tr>\n",
       "  </tbody>\n",
       "</table>\n",
       "</div>"
      ],
      "text/plain": [
       "  names  training   testing         rmse\n",
       "0    DT  0.615424  0.582429  1105.519369\n",
       "1    RF  0.936955  0.555722  1140.324162\n",
       "2    LR  0.546353  0.543273  1156.190519\n",
       "3   KNN  0.649795  0.454459  1263.614194"
      ]
     },
     "execution_count": 59,
     "metadata": {},
     "output_type": "execute_result"
    }
   ],
   "source": [
    "#set seed for same results everytime#without Outlet_Identifier\n",
    "seed=0\n",
    "import sklearn.ensemble as ensemble\n",
    "import sklearn.metrics as metrics\n",
    "\n",
    "X=df2.drop('Item_Outlet_Sales',1)\n",
    "X=X.iloc[:,:-9]\n",
    "y=df2['Item_Outlet_Sales']\n",
    "X_train, X_test, y_train, y_test = train_test_split(X,y, test_size = 0.20, random_state =0)\n",
    "\n",
    "#declare the models\n",
    "LR=LinearRegression()\n",
    "KNN = KNeighborsRegressor()\n",
    "DT =DecisionTreeRegressor(**rscv_dt.best_params_)\n",
    "RF = RandomForestRegressor()\n",
    "\n",
    "\n",
    "models=[LR,KNN,DT,RF]\n",
    "sctr,scte,rmse=[],[],[]\n",
    "def ens(X_train,X_test, y_train, y_test):\n",
    "    for model in models:\n",
    "            model.fit(X_train, y_train)\n",
    "            y_test_pred = model.predict(X_test)\n",
    "            train_score=model.score(X_train,y_train)\n",
    "            test_score=model.score(X_test,y_test)\n",
    "            mse=metrics.mean_squared_error(y_test,y_test_pred)\n",
    "            mse=np.sqrt(mse)\n",
    "            sctr.append(train_score)\n",
    "            scte.append(test_score)\n",
    "            rmse.append(mse)\n",
    "    return sctr,scte\n",
    "ens(X_train,X_test, y_train, y_test)\n",
    "\n",
    "ensemble=pd.DataFrame({'names':['LR','KNN','DT','RF'],'training':sctr,'testing':scte,'rmse':rmse})\n",
    "ensemble=ensemble.sort_values(by=['testing','rmse'],ascending=False).reset_index(drop=True)\n",
    "ensemble\n",
    "\n",
    "# Performance slightly improved"
   ]
  },
  {
   "cell_type": "markdown",
   "metadata": {},
   "source": [
    "# Testing data manipulation:"
   ]
  },
  {
   "cell_type": "code",
   "execution_count": 60,
   "metadata": {},
   "outputs": [],
   "source": [
    "dfte=pd.read_csv('D:/datasets+minipro/analytics vidhya datasets/bigmart sale/test_AbJTz2l.csv')\n",
    "dftmp=dfte.copy()"
   ]
  },
  {
   "cell_type": "code",
   "execution_count": 61,
   "metadata": {},
   "outputs": [],
   "source": [
    "dfte=dfte.drop(['Item_Identifier'],1)"
   ]
  },
  {
   "cell_type": "code",
   "execution_count": 62,
   "metadata": {},
   "outputs": [],
   "source": [
    "dftcp=dfte.copy()"
   ]
  },
  {
   "cell_type": "code",
   "execution_count": 63,
   "metadata": {},
   "outputs": [],
   "source": [
    "dftcp['Item_Fat_Content'].replace({'LF':'Low Fat','low fat':'Low Fat','reg':'Regular'},inplace=True)\n",
    "x=pd.get_dummies(dftcp['Item_Fat_Content'],drop_first=True)# we will concat it to dftcp later\n",
    "y=pd.get_dummies(dftcp['Item_Type'],drop_first=True) # use it later for concat\n",
    "z=pd.get_dummies(dftcp['Outlet_Identifier'],drop_first=True) # use later.concat\n",
    "dftcp['Outlet_Size'].fillna('Medium',inplace=True)\n",
    "dftcp['Outlet_Size'].replace({'Small':1,'Medium':2,'High':3},inplace=True)"
   ]
  },
  {
   "cell_type": "code",
   "execution_count": 64,
   "metadata": {},
   "outputs": [],
   "source": [
    "dftcp['Outlet_Location_Type'].replace({'Tier 1':1,'Tier 3':2,'Tier 2':3},inplace=True)\n",
    "dftcp['Outlet_Type'].replace({'Grocery Store':1,'Supermarket Type2':2,'Supermarket Type1':3,'Supermarket Type3':4},inplace=True)"
   ]
  },
  {
   "cell_type": "code",
   "execution_count": 65,
   "metadata": {},
   "outputs": [],
   "source": [
    "# dftcp['Item_Weight']=dftcp.groupby('Item_Type').Item_Weight.apply(lambda x: x.fillna(x.mean()))\n",
    "dftcp['Item_Weight']=dftcp['Item_Weight'].fillna(dftcp['Item_Weight'].mean())\n",
    "# dftcp['Outlet_Establishment_Year']=dftcp['Outlet_Establishment_Year'].replace({i:(x.index(i))+1 for i in x})\n",
    "dftefinal=pd.concat([dftcp,x,y,z],1)\n",
    "# concatenating:\n",
    "dftefinal=pd.concat([dftcp,x,y,z],1)\n",
    "dftefinal.drop(['Item_Fat_Content','Item_Type','Outlet_Identifier'],1,inplace=True)"
   ]
  },
  {
   "cell_type": "code",
   "execution_count": 66,
   "metadata": {
    "scrolled": true
   },
   "outputs": [
    {
     "data": {
      "text/html": [
       "<div>\n",
       "<style scoped>\n",
       "    .dataframe tbody tr th:only-of-type {\n",
       "        vertical-align: middle;\n",
       "    }\n",
       "\n",
       "    .dataframe tbody tr th {\n",
       "        vertical-align: top;\n",
       "    }\n",
       "\n",
       "    .dataframe thead th {\n",
       "        text-align: right;\n",
       "    }\n",
       "</style>\n",
       "<table border=\"1\" class=\"dataframe\">\n",
       "  <thead>\n",
       "    <tr style=\"text-align: right;\">\n",
       "      <th></th>\n",
       "      <th>Item_Weight</th>\n",
       "      <th>Item_Visibility</th>\n",
       "      <th>Item_MRP</th>\n",
       "      <th>Outlet_Establishment_Year</th>\n",
       "      <th>Outlet_Size</th>\n",
       "      <th>Outlet_Location_Type</th>\n",
       "      <th>Outlet_Type</th>\n",
       "      <th>Regular</th>\n",
       "      <th>Breads</th>\n",
       "      <th>Breakfast</th>\n",
       "      <th>...</th>\n",
       "      <th>Starchy Foods</th>\n",
       "      <th>OUT013</th>\n",
       "      <th>OUT017</th>\n",
       "      <th>OUT018</th>\n",
       "      <th>OUT019</th>\n",
       "      <th>OUT027</th>\n",
       "      <th>OUT035</th>\n",
       "      <th>OUT045</th>\n",
       "      <th>OUT046</th>\n",
       "      <th>OUT049</th>\n",
       "    </tr>\n",
       "  </thead>\n",
       "  <tbody>\n",
       "    <tr>\n",
       "      <th>0</th>\n",
       "      <td>20.75</td>\n",
       "      <td>0.007565</td>\n",
       "      <td>107.8622</td>\n",
       "      <td>1999</td>\n",
       "      <td>2</td>\n",
       "      <td>1</td>\n",
       "      <td>3</td>\n",
       "      <td>0</td>\n",
       "      <td>0</td>\n",
       "      <td>0</td>\n",
       "      <td>...</td>\n",
       "      <td>0</td>\n",
       "      <td>0</td>\n",
       "      <td>0</td>\n",
       "      <td>0</td>\n",
       "      <td>0</td>\n",
       "      <td>0</td>\n",
       "      <td>0</td>\n",
       "      <td>0</td>\n",
       "      <td>0</td>\n",
       "      <td>1</td>\n",
       "    </tr>\n",
       "  </tbody>\n",
       "</table>\n",
       "<p>1 rows × 32 columns</p>\n",
       "</div>"
      ],
      "text/plain": [
       "   Item_Weight  Item_Visibility  Item_MRP  Outlet_Establishment_Year  \\\n",
       "0        20.75         0.007565  107.8622                       1999   \n",
       "\n",
       "   Outlet_Size  Outlet_Location_Type  Outlet_Type  Regular  Breads  Breakfast  \\\n",
       "0            2                     1            3        0       0          0   \n",
       "\n",
       "   ...  Starchy Foods  OUT013  OUT017  OUT018  OUT019  OUT027  OUT035  OUT045  \\\n",
       "0  ...              0       0       0       0       0       0       0       0   \n",
       "\n",
       "   OUT046  OUT049  \n",
       "0       0       1  \n",
       "\n",
       "[1 rows x 32 columns]"
      ]
     },
     "execution_count": 66,
     "metadata": {},
     "output_type": "execute_result"
    }
   ],
   "source": [
    "dftefinal.head(1)\n",
    "\n",
    "##this is what we want to predict"
   ]
  },
  {
   "cell_type": "markdown",
   "metadata": {},
   "source": [
    "# Linear regression:"
   ]
  },
  {
   "cell_type": "code",
   "execution_count": 67,
   "metadata": {},
   "outputs": [],
   "source": [
    "# Trying with Linear regression:\n",
    "X=df2.drop('Item_Outlet_Sales',1)\n",
    "y=df2['Item_Outlet_Sales']\n",
    "\n",
    "## only linear regression:\n",
    "\n",
    "linreg=LinearRegression()\n",
    "linreg.fit(X,y)\n",
    "y_test_pred_f=linreg.predict(dftefinal)\n",
    "# The model seems to be underfit for linear regression.Its not giving very good results"
   ]
  },
  {
   "cell_type": "code",
   "execution_count": 68,
   "metadata": {},
   "outputs": [],
   "source": [
    "finalpred=pd.concat([dftmp[['Item_Identifier','Outlet_Identifier']],pd.DataFrame(y_test_pred_f,columns=['Item_Outlet_Sales'])],1)"
   ]
  },
  {
   "cell_type": "code",
   "execution_count": 69,
   "metadata": {
    "scrolled": true
   },
   "outputs": [],
   "source": [
    "# finalpred.to_csv(\"D:/datasets+minipro/analytics vidhya datasets/bigmart sale/prediction.csv\",index=False)"
   ]
  },
  {
   "cell_type": "markdown",
   "metadata": {},
   "source": [
    "# Random Forest:"
   ]
  },
  {
   "cell_type": "code",
   "execution_count": 70,
   "metadata": {},
   "outputs": [],
   "source": [
    "# Trying with Linear regression:\n",
    "X=df2.drop('Item_Outlet_Sales',1)\n",
    "y=df2['Item_Outlet_Sales']\n",
    "\n",
    "\n",
    "## only Random forest regression:\n",
    "RF=RandomForestRegressor()\n",
    "RF.fit(X,y)\n",
    "y_test_pred_rf=RF.predict(dftefinal)\n",
    "# The model seems to be underfit for linear regression.Its not giving very good results"
   ]
  },
  {
   "cell_type": "code",
   "execution_count": 71,
   "metadata": {},
   "outputs": [],
   "source": [
    "finalpred=pd.concat([dftmp[['Item_Identifier','Outlet_Identifier']],pd.DataFrame(y_test_pred_rf,columns=['Item_Outlet_Sales'])],1)"
   ]
  },
  {
   "cell_type": "code",
   "execution_count": 72,
   "metadata": {},
   "outputs": [],
   "source": [
    "# finalpred.to_csv(\"D:/datasets+minipro/analytics vidhya datasets/bigmart sale/predictionrf.csv\",index=False)"
   ]
  },
  {
   "cell_type": "markdown",
   "metadata": {},
   "source": [
    "# Regression with DT:[This is giving best results so far!  MSE:1159]"
   ]
  },
  {
   "cell_type": "code",
   "execution_count": 73,
   "metadata": {},
   "outputs": [],
   "source": [
    "X=df2.drop('Item_Outlet_Sales',1)\n",
    "y=df2['Item_Outlet_Sales']"
   ]
  },
  {
   "cell_type": "code",
   "execution_count": 74,
   "metadata": {},
   "outputs": [
    {
     "name": "stdout",
     "output_type": "stream",
     "text": [
      "{'min_samples_leaf': 17, 'max_depth': 6}\n"
     ]
    }
   ],
   "source": [
    "dt = DecisionTreeRegressor(random_state=0)\n",
    "dt_params = {'max_depth':np.arange(1,50), 'min_samples_leaf':np.arange(2,30)}\n",
    "rscv_dt =RandomizedSearchCV(dt, dt_params, cv=3, scoring='neg_mean_squared_error')\n",
    "rscv_dt.fit(X, y)\n",
    "print(rscv_dt.best_params_)\n",
    "#{'min_samples_leaf': 4, 'max_depth': 5} giving the best results\n",
    "#{'min_samples_leaf': 12, 'max_depth': 7}"
   ]
  },
  {
   "cell_type": "code",
   "execution_count": 75,
   "metadata": {},
   "outputs": [],
   "source": [
    "dt = DecisionTreeRegressor(**{'min_samples_leaf':4, 'max_depth': 5})"
   ]
  },
  {
   "cell_type": "code",
   "execution_count": 76,
   "metadata": {},
   "outputs": [
    {
     "data": {
      "text/plain": [
       "DecisionTreeRegressor(ccp_alpha=0.0, criterion='mse', max_depth=5,\n",
       "                      max_features=None, max_leaf_nodes=None,\n",
       "                      min_impurity_decrease=0.0, min_impurity_split=None,\n",
       "                      min_samples_leaf=4, min_samples_split=2,\n",
       "                      min_weight_fraction_leaf=0.0, presort='deprecated',\n",
       "                      random_state=None, splitter='best')"
      ]
     },
     "execution_count": 76,
     "metadata": {},
     "output_type": "execute_result"
    }
   ],
   "source": [
    "dt.fit(X,y)"
   ]
  },
  {
   "cell_type": "code",
   "execution_count": 77,
   "metadata": {},
   "outputs": [],
   "source": [
    "y_test_pred_dt=dt.predict(dftefinal)\n",
    "finalpred=pd.concat([dftmp[['Item_Identifier','Outlet_Identifier']],pd.DataFrame(y_test_pred_dt,columns=['Item_Outlet_Sales'])],1)"
   ]
  },
  {
   "cell_type": "code",
   "execution_count": 78,
   "metadata": {},
   "outputs": [],
   "source": [
    "finalpred.to_csv(\"D:/datasets+minipro/analytics vidhya datasets/bigmart sale/predictiondt.csv\",index=False)"
   ]
  },
  {
   "cell_type": "markdown",
   "metadata": {},
   "source": [
    "# adaboost:"
   ]
  },
  {
   "cell_type": "code",
   "execution_count": 79,
   "metadata": {},
   "outputs": [
    {
     "name": "stdout",
     "output_type": "stream",
     "text": [
      "1131.2188082011278\n",
      "1\n",
      "7.573811186781425\n",
      "2\n",
      "Min Bias Error: 1131.2188082011278  n_estimator: 2  Variance Error: 132.02115288215776\n"
     ]
    }
   ],
   "source": [
    "dt=DecisionTreeRegressor()\n",
    "AB_DT = AdaBoostRegressor(base_estimator=dt, random_state=0)\n",
    "mse_bias= []\n",
    "mse_var=[]\n",
    "for n_e in np.arange(5,13):\n",
    "    AB_DT=AdaBoostRegressor(n_estimators=n_e,random_state=0)\n",
    "    kfold = KFold(shuffle=True, n_splits=3, random_state=0)\n",
    "    mse = cross_val_score(AB_DT, X, y, cv=kfold, scoring='neg_mean_squared_error' )\n",
    "    mse_bias.append(np.mean(np.sqrt(np.abs(mse))))\n",
    "    mse_var.append(np.var(np.sqrt(np.abs(mse)), ddof=1))\n",
    "print(np.min(mse_bias))\n",
    "print(np.argmin(mse_bias))\n",
    "print(np.min(mse_var))\n",
    "print(np.argmin(mse_var))\n",
    "\n",
    "print('Min Bias Error:',np.min(mse_bias),' n_estimator:',np.argmin(mse_bias)+1,' Variance Error:',mse_var[np.argmin(mse_bias)])\n",
    "\n",
    "dt=DecisionTreeRegressor(**{'min_samples_leaf': 4, 'max_depth': 5})\n",
    "AB_DT = AdaBoostRegressor(base_estimator=dt,n_estimators=3,random_state=0)\n",
    "\n",
    "AB_DT.fit(X,y)\n",
    "\n",
    "y_test_pred_AB_DT=AB_DT.predict(dftefinal)\n",
    "finalpred=pd.concat([dftmp[['Item_Identifier','Outlet_Identifier']],pd.DataFrame(y_test_pred_AB_DT,columns=['Item_Outlet_Sales'])],1)\n",
    "\n",
    "finalpred.to_csv(\"D:/datasets+minipro/analytics vidhya datasets/bigmart sale/predictionABDT.csv\",index=False)"
   ]
  },
  {
   "cell_type": "code",
   "execution_count": 80,
   "metadata": {},
   "outputs": [],
   "source": [
    "# RF with tuning:"
   ]
  },
  {
   "cell_type": "code",
   "execution_count": 81,
   "metadata": {
    "scrolled": true
   },
   "outputs": [
    {
     "name": "stdout",
     "output_type": "stream",
     "text": [
      "{'n_estimators': 50, 'min_samples_split': 5, 'min_samples_leaf': 4, 'max_features': 'sqrt', 'max_depth': 60, 'bootstrap': False}\n"
     ]
    }
   ],
   "source": [
    "RF = RandomForestRegressor(random_state=0)\n",
    "rf_params = param_grid={'bootstrap': [True, False],\n",
    " 'max_depth': [10, 20, 30, 40, 50, 60, 70, 80, 90, 100, None],\n",
    " 'max_features': ['auto', 'sqrt'],\n",
    " 'min_samples_leaf': [1, 2, 4],\n",
    " 'min_samples_split': [2, 5, 10],\n",
    " 'n_estimators': [50,100,200]}\n",
    "rscv_rf =RandomizedSearchCV(RF, rf_params, cv=3, scoring='neg_mean_squared_error')\n",
    "rscv_rf.fit(X, y)\n",
    "print(rscv_rf.best_params_)\n",
    "#{'n_estimators': 50, 'min_samples_split': 10, 'min_samples_leaf': 4, 'max_features': 'auto', 'max_depth': 80, 'bootstrap': True}"
   ]
  },
  {
   "cell_type": "code",
   "execution_count": 82,
   "metadata": {},
   "outputs": [],
   "source": [
    "# Trying with Linear regression:\n",
    "X=df2.drop('Item_Outlet_Sales',1)\n",
    "y=df2['Item_Outlet_Sales']\n",
    "\n",
    "## only Random forest regression:\n",
    "RF=RandomForestRegressor(**rscv_rf.best_params_)\n",
    "RF.fit(X,y)\n",
    "y_test_pred_rf=RF.predict(dftefinal)\n",
    "\n",
    "# The model seems to be underfit for linear regression.Its not giving very good resultsaa"
   ]
  },
  {
   "cell_type": "code",
   "execution_count": 83,
   "metadata": {},
   "outputs": [],
   "source": [
    "finalpred=pd.concat([dftmp[['Item_Identifier','Outlet_Identifier']],pd.DataFrame(y_test_pred_rf,columns=['Item_Outlet_Sales'])],1)\n",
    "finalpred.to_csv(\"D:/datasets+minipro/analytics vidhya datasets/bigmart sale/predictionrftuned.csv\",index=False)"
   ]
  },
  {
   "cell_type": "markdown",
   "metadata": {},
   "source": [
    "<!-- # Lasso regression:\n",
    "\n",
    "# Do not use this or linear regression,its giving negative values\n",
    "# from sklearn.linear_model import Lasso,Ridge\n",
    "\n",
    "# lasso=Lasso(alpha=0.1,random_state=0)\n",
    "\n",
    "# lasso.fit(X,y)\n",
    "\n",
    "# y_test_pred_lo=lasso.predict(dftefinal)\n",
    "\n",
    "# finalpred=pd.concat([dftmp[['Item_Identifier','Outlet_Identifier']],pd.DataFrame(y_test_pred_lo,columns=['Item_Outlet_Sales'])],1)\n",
    "# finalpred.to_csv(\"D:/datasets+minipro/analytics vidhya datasets/bigmart sale/predictionlassotuned.csv\",index=False)\n",
    "\n",
    "# Ridge regression:\n",
    "\n",
    "# Do not use this or linear regression,its giving negative values\n",
    "# from sklearn.linear_model import Lasso,Ridge\n",
    "\n",
    "# ridge=Ridge(alpha=0.1,random_state=0)\n",
    "\n",
    "# ridge.fit(X,y)\n",
    "\n",
    "# y_test_pred_ro=ridge.predict(dftefinal)\n",
    "\n",
    "# finalpred=pd.concat([dftmp[['Item_Identifier','Outlet_Identifier']],pd.DataFrame(y_test_pred_ro,columns=['Item_Outlet_Sales'])],1)\n",
    "# finalpred.to_csv(\"D:/datasets+minipro/analytics vidhya datasets/bigmart sale/predictionridgetuned.csv\",index=False) -->"
   ]
  },
  {
   "cell_type": "code",
   "execution_count": 84,
   "metadata": {},
   "outputs": [],
   "source": [
    "# Do not use this or linear regression,its giving negative values\n",
    "# from sklearn.linear_model import Lasso,Ridge\n",
    "\n",
    "# lasso=Lasso(alpha=0.1,random_state=0)\n",
    "\n",
    "# lasso.fit(X,y)\n",
    "\n",
    "# y_test_pred_lo=lasso.predict(dftefinal)\n",
    "\n",
    "# finalpred=pd.concat([dftmp[['Item_Identifier','Outlet_Identifier']],pd.DataFrame(y_test_pred_lo,columns=['Item_Outlet_Sales'])],1)\n",
    "# finalpred.to_csv(\"D:/datasets+minipro/analytics vidhya datasets/bigmart sale/predictionlassotuned.csv\",index=False)"
   ]
  },
  {
   "cell_type": "markdown",
   "metadata": {},
   "source": [
    "# Ridge regression:"
   ]
  },
  {
   "cell_type": "code",
   "execution_count": 85,
   "metadata": {},
   "outputs": [],
   "source": [
    "# Do not use this or linear regression,its giving negative values\n",
    "# from sklearn.linear_model import Lasso,Ridge\n",
    "\n",
    "# ridge=Ridge(alpha=0.1,random_state=0)\n",
    "\n",
    "# ridge.fit(X,y)\n",
    "\n",
    "# y_test_pred_ro=ridge.predict(dftefinal)\n",
    "\n",
    "# finalpred=pd.concat([dftmp[['Item_Identifier','Outlet_Identifier']],pd.DataFrame(y_test_pred_ro,columns=['Item_Outlet_Sales'])],1)\n",
    "# finalpred.to_csv(\"D:/datasets+minipro/analytics vidhya datasets/bigmart sale/predictionridgetuned.csv\",index=False)"
   ]
  }
 ],
 "metadata": {
  "kernelspec": {
   "display_name": "Python 3",
   "language": "python",
   "name": "python3"
  },
  "language_info": {
   "codemirror_mode": {
    "name": "ipython",
    "version": 3
   },
   "file_extension": ".py",
   "mimetype": "text/x-python",
   "name": "python",
   "nbconvert_exporter": "python",
   "pygments_lexer": "ipython3",
   "version": "3.6.4"
  }
 },
 "nbformat": 4,
 "nbformat_minor": 2
}
