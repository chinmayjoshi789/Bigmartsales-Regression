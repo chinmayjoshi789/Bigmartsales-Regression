{
 "cells": [
  {
   "cell_type": "code",
   "execution_count": 1,
   "metadata": {},
   "outputs": [],
   "source": [
    "import numpy as np\n",
    "import pandas as pd\n",
    "import seaborn as sns\n",
    "import matplotlib.pyplot as plt\n",
    "import scipy.stats as st\n",
    "from sklearn.model_selection import train_test_split,KFold,StratifiedKFold,GridSearchCV,RandomizedSearchCV,cross_val_score\n",
    "from sklearn.ensemble import RandomForestClassifier,BaggingClassifier,AdaBoostClassifier,GradientBoostingClassifier,RandomForestRegressor,BaggingRegressor,AdaBoostRegressor,GradientBoostingRegressor\n",
    "from sklearn.linear_model import LinearRegression,LogisticRegression,Lasso, Ridge\n",
    "from sklearn.tree import DecisionTreeClassifier,DecisionTreeRegressor\n",
    "from sklearn.naive_bayes import GaussianNB\n",
    "from sklearn.neighbors import KNeighborsClassifier,KNeighborsRegressor\n",
    "import sklearn.metrics as metrics\n",
    "from sklearn.metrics import r2_score,roc_auc_score,classification_report,mean_squared_error,accuracy_score,confusion_matrix\n",
    "import warnings\n",
    "warnings.filterwarnings('ignore')"
   ]
  },
  {
   "cell_type": "code",
   "execution_count": 2,
   "metadata": {},
   "outputs": [],
   "source": [
    "df=pd.read_csv('D:/datasets+minipro/Analytics vidhya free course material/Regression/bigmartanalytics.csv')"
   ]
  },
  {
   "cell_type": "markdown",
   "metadata": {},
   "source": [
    "## Linear Regression Assumptions:"
   ]
  },
  {
   "cell_type": "code",
   "execution_count": 121,
   "metadata": {},
   "outputs": [],
   "source": [
    "# Converting data to numeric and imputing null values to apply base model."
   ]
  },
  {
   "cell_type": "code",
   "execution_count": 122,
   "metadata": {},
   "outputs": [
    {
     "data": {
      "text/html": [
       "<table class=\"simpletable\">\n",
       "<caption>OLS Regression Results</caption>\n",
       "<tr>\n",
       "  <th>Dep. Variable:</th>    <td>Item_Outlet_Sales</td> <th>  R-squared:         </th> <td>   0.510</td> \n",
       "</tr>\n",
       "<tr>\n",
       "  <th>Model:</th>                   <td>OLS</td>        <th>  Adj. R-squared:    </th> <td>   0.510</td> \n",
       "</tr>\n",
       "<tr>\n",
       "  <th>Method:</th>             <td>Least Squares</td>   <th>  F-statistic:       </th> <td>   887.3</td> \n",
       "</tr>\n",
       "<tr>\n",
       "  <th>Date:</th>             <td>Wed, 20 May 2020</td>  <th>  Prob (F-statistic):</th>  <td>  0.00</td>  \n",
       "</tr>\n",
       "<tr>\n",
       "  <th>Time:</th>                 <td>10:12:28</td>      <th>  Log-Likelihood:    </th> <td> -72480.</td> \n",
       "</tr>\n",
       "<tr>\n",
       "  <th>No. Observations:</th>      <td>  8523</td>       <th>  AIC:               </th> <td>1.450e+05</td>\n",
       "</tr>\n",
       "<tr>\n",
       "  <th>Df Residuals:</th>          <td>  8512</td>       <th>  BIC:               </th> <td>1.451e+05</td>\n",
       "</tr>\n",
       "<tr>\n",
       "  <th>Df Model:</th>              <td>    10</td>       <th>                     </th>     <td> </td>    \n",
       "</tr>\n",
       "<tr>\n",
       "  <th>Covariance Type:</th>      <td>nonrobust</td>     <th>                     </th>     <td> </td>    \n",
       "</tr>\n",
       "</table>\n",
       "<table class=\"simpletable\">\n",
       "<tr>\n",
       "              <td></td>                 <th>coef</th>     <th>std err</th>      <th>t</th>      <th>P>|t|</th>  <th>[0.025</th>    <th>0.975]</th>  \n",
       "</tr>\n",
       "<tr>\n",
       "  <th>const</th>                     <td> -976.5102</td> <td> 3203.359</td> <td>   -0.305</td> <td> 0.760</td> <td>-7255.871</td> <td> 5302.851</td>\n",
       "</tr>\n",
       "<tr>\n",
       "  <th>Item_Weight</th>               <td>   -0.3629</td> <td>    3.065</td> <td>   -0.118</td> <td> 0.906</td> <td>   -6.371</td> <td>    5.645</td>\n",
       "</tr>\n",
       "<tr>\n",
       "  <th>Item_Fat_Content</th>          <td>   56.1508</td> <td>   27.388</td> <td>    2.050</td> <td> 0.040</td> <td>    2.465</td> <td>  109.837</td>\n",
       "</tr>\n",
       "<tr>\n",
       "  <th>Item_Visibility</th>           <td>-1391.6602</td> <td>  258.815</td> <td>   -5.377</td> <td> 0.000</td> <td>-1898.999</td> <td> -884.321</td>\n",
       "</tr>\n",
       "<tr>\n",
       "  <th>Item_Type</th>                 <td>   -0.8539</td> <td>    3.109</td> <td>   -0.275</td> <td> 0.784</td> <td>   -6.948</td> <td>    5.240</td>\n",
       "</tr>\n",
       "<tr>\n",
       "  <th>Item_MRP</th>                  <td>   15.5850</td> <td>    0.208</td> <td>   74.917</td> <td> 0.000</td> <td>   15.177</td> <td>   15.993</td>\n",
       "</tr>\n",
       "<tr>\n",
       "  <th>Outlet_Identifier</th>         <td>   59.8204</td> <td>    9.291</td> <td>    6.438</td> <td> 0.000</td> <td>   41.607</td> <td>   78.034</td>\n",
       "</tr>\n",
       "<tr>\n",
       "  <th>Outlet_Establishment_Year</th> <td>    0.1742</td> <td>    1.608</td> <td>    0.108</td> <td> 0.914</td> <td>   -2.978</td> <td>    3.326</td>\n",
       "</tr>\n",
       "<tr>\n",
       "  <th>Outlet_Size</th>               <td> -339.2174</td> <td>   28.229</td> <td>  -12.017</td> <td> 0.000</td> <td> -394.553</td> <td> -283.882</td>\n",
       "</tr>\n",
       "<tr>\n",
       "  <th>Outlet_Location_Type</th>      <td> -222.3644</td> <td>   38.565</td> <td>   -5.766</td> <td> 0.000</td> <td> -297.961</td> <td> -146.767</td>\n",
       "</tr>\n",
       "<tr>\n",
       "  <th>Outlet_Type</th>               <td>  880.4369</td> <td>   26.436</td> <td>   33.305</td> <td> 0.000</td> <td>  828.617</td> <td>  932.257</td>\n",
       "</tr>\n",
       "</table>\n",
       "<table class=\"simpletable\">\n",
       "<tr>\n",
       "  <th>Omnibus:</th>       <td>856.969</td> <th>  Durbin-Watson:     </th> <td>   2.011</td>\n",
       "</tr>\n",
       "<tr>\n",
       "  <th>Prob(Omnibus):</th> <td> 0.000</td>  <th>  Jarque-Bera (JB):  </th> <td>1786.710</td>\n",
       "</tr>\n",
       "<tr>\n",
       "  <th>Skew:</th>          <td> 0.643</td>  <th>  Prob(JB):          </th> <td>    0.00</td>\n",
       "</tr>\n",
       "<tr>\n",
       "  <th>Kurtosis:</th>      <td> 4.837</td>  <th>  Cond. No.          </th> <td>4.96e+05</td>\n",
       "</tr>\n",
       "</table><br/><br/>Warnings:<br/>[1] Standard Errors assume that the covariance matrix of the errors is correctly specified.<br/>[2] The condition number is large, 4.96e+05. This might indicate that there are<br/>strong multicollinearity or other numerical problems."
      ],
      "text/plain": [
       "<class 'statsmodels.iolib.summary.Summary'>\n",
       "\"\"\"\n",
       "                            OLS Regression Results                            \n",
       "==============================================================================\n",
       "Dep. Variable:      Item_Outlet_Sales   R-squared:                       0.510\n",
       "Model:                            OLS   Adj. R-squared:                  0.510\n",
       "Method:                 Least Squares   F-statistic:                     887.3\n",
       "Date:                Wed, 20 May 2020   Prob (F-statistic):               0.00\n",
       "Time:                        10:12:28   Log-Likelihood:                -72480.\n",
       "No. Observations:                8523   AIC:                         1.450e+05\n",
       "Df Residuals:                    8512   BIC:                         1.451e+05\n",
       "Df Model:                          10                                         \n",
       "Covariance Type:            nonrobust                                         \n",
       "=============================================================================================\n",
       "                                coef    std err          t      P>|t|      [0.025      0.975]\n",
       "---------------------------------------------------------------------------------------------\n",
       "const                      -976.5102   3203.359     -0.305      0.760   -7255.871    5302.851\n",
       "Item_Weight                  -0.3629      3.065     -0.118      0.906      -6.371       5.645\n",
       "Item_Fat_Content             56.1508     27.388      2.050      0.040       2.465     109.837\n",
       "Item_Visibility           -1391.6602    258.815     -5.377      0.000   -1898.999    -884.321\n",
       "Item_Type                    -0.8539      3.109     -0.275      0.784      -6.948       5.240\n",
       "Item_MRP                     15.5850      0.208     74.917      0.000      15.177      15.993\n",
       "Outlet_Identifier            59.8204      9.291      6.438      0.000      41.607      78.034\n",
       "Outlet_Establishment_Year     0.1742      1.608      0.108      0.914      -2.978       3.326\n",
       "Outlet_Size                -339.2174     28.229    -12.017      0.000    -394.553    -283.882\n",
       "Outlet_Location_Type       -222.3644     38.565     -5.766      0.000    -297.961    -146.767\n",
       "Outlet_Type                 880.4369     26.436     33.305      0.000     828.617     932.257\n",
       "==============================================================================\n",
       "Omnibus:                      856.969   Durbin-Watson:                   2.011\n",
       "Prob(Omnibus):                  0.000   Jarque-Bera (JB):             1786.710\n",
       "Skew:                           0.643   Prob(JB):                         0.00\n",
       "Kurtosis:                       4.837   Cond. No.                     4.96e+05\n",
       "==============================================================================\n",
       "\n",
       "Warnings:\n",
       "[1] Standard Errors assume that the covariance matrix of the errors is correctly specified.\n",
       "[2] The condition number is large, 4.96e+05. This might indicate that there are\n",
       "strong multicollinearity or other numerical problems.\n",
       "\"\"\""
      ]
     },
     "execution_count": 122,
     "metadata": {},
     "output_type": "execute_result"
    }
   ],
   "source": [
    "df1=df.copy()\n",
    "df1.drop('Item_Identifier',1,inplace=True)\n",
    "### Converting Incorrect classes,typos into same class in df1.\n",
    "df1['Item_Fat_Content'].replace({'LF':'Low Fat','low fat':'Low Fat','reg':'Regular'},inplace=True)\n",
    "## Label encoding\n",
    "from sklearn.impute import SimpleImputer\n",
    "si=SimpleImputer(missing_values=np.nan, strategy='median')\n",
    "sicate=SimpleImputer(missing_values=np.nan, strategy='most_frequent')\n",
    "for i in df1.select_dtypes(include='object'):\n",
    "    if df1[i].isnull().sum()>0:\n",
    "        df1[i]=sicate.fit_transform(np.array(df1[i]).reshape(-1,1))\n",
    "for i in df1.select_dtypes(exclude='object'):\n",
    "    if df1[i].isnull().sum()>0:\n",
    "        df1[i]=si.fit_transform(np.array(df1[i]).reshape(-1,1))\n",
    "from sklearn.preprocessing import LabelEncoder\n",
    "le=LabelEncoder()\n",
    "for i in df1.select_dtypes(include='object'):\n",
    "    df1[i]=le.fit_transform(df1[i])\n",
    "\n",
    "# Lets build base model first:[OLS using stats]\n",
    "import statsmodels.api as sm\n",
    "X=df1.drop('Item_Outlet_Sales',1)\n",
    "y=df1['Item_Outlet_Sales']\n",
    "Xc=sm.add_constant(X)\n",
    "model = sm.OLS(y, Xc).fit()\n",
    "model.summary()"
   ]
  },
  {
   "cell_type": "code",
   "execution_count": 123,
   "metadata": {},
   "outputs": [
    {
     "data": {
      "image/png": "[encoded data removed]",
      "text/plain": [
       "<Figure size 432x288 with 1 Axes>"
      ]
     },
     "metadata": {
      "needs_background": "light"
     },
     "output_type": "display_data"
    }
   ],
   "source": [
    "#### 1 - Autocorrelation :\n",
    "# As we can observe that base model is not giving good accuracy in terms of r2 score.\n",
    "# we can also see that durbin-watson score is good enough(Approx close to 2)meaning that there is no autocorrelation\n",
    "# between residuals\n",
    "import statsmodels.tsa.api as smt\n",
    "acf = smt.graphics.plot_acf(model.resid, lags=30 , alpha=0.05)\n",
    "acf.show()\n",
    "# So, we can see that all lines are within blue boundary indicating that there is almost no autocorrelation\n",
    "# between input variables.\n",
    "# Also,durbin watson value is closer to 2 meaning that there is no autocorrelation.\n",
    "# To summarize:\n",
    "#      0-2 : +ve autocorrelation\n",
    "#      closer to 2 : Little or No Autocorrelation\n",
    "#      2-4 : -ve autocorrelation"
   ]
  },
  {
   "cell_type": "code",
   "execution_count": 124,
   "metadata": {},
   "outputs": [
    {
     "name": "stdout",
     "output_type": "stream",
     "text": [
      "(1786.7102749877256, 0.0)\n",
      "chisquare stat critical 5.991464547107983\n"
     ]
    },
    {
     "data": {
      "text/plain": [
       "<matplotlib.axes._subplots.AxesSubplot at 0x2c50d21a080>"
      ]
     },
     "execution_count": 124,
     "metadata": {},
     "output_type": "execute_result"
    },
    {
     "data": {
      "image/png": "[encoded data removed]",
      "text/plain": [
       "<Figure size 432x288 with 1 Axes>"
      ]
     },
     "metadata": {
      "needs_background": "light"
     },
     "output_type": "display_data"
    }
   ],
   "source": [
    "#### Assumption 2 : Normality of residuals:[using jarque berra test]:\n",
    "\n",
    "from scipy import stats\n",
    "print(stats.jarque_bera(model.resid))\n",
    "print('chisquare stat critical',stats.chi2.isf(0.05,2))\n",
    "# Framing hypothesis:\n",
    "# H0- Errors/residual are normally distributed\n",
    "# HA- Errors/residuals are not normally distributed\n",
    "## from output of p value as p-val < alpha, we reject null hypothesis and accept alternate hypothesis.\n",
    "# we can say that errors are not normally distributed with statistical certainty.\n",
    "# Also, from JB statistic,we can see that it is much higher than 6,so it definitely lies in critical region,So,\n",
    "# Reject null hypothesis there as well.\n",
    "sns.distplot(model.resid)"
   ]
  },
  {
   "cell_type": "code",
   "execution_count": 125,
   "metadata": {},
   "outputs": [
    {
     "name": "stdout",
     "output_type": "stream",
     "text": [
      "(1.063389576282676, 0.022508622956259865)\n"
     ]
    },
    {
     "data": {
      "image/png": "[encoded data removed]",
      "text/plain": [
       "<Figure size 432x288 with 1 Axes>"
      ]
     },
     "metadata": {
      "needs_background": "light"
     },
     "output_type": "display_data"
    }
   ],
   "source": [
    "#### Assumption 3: Linearity of residuals:\n",
    "\n",
    "\n",
    "import statsmodels.api as sm\n",
    "print(sm.stats.diagnostic.linear_rainbow(res=model, frac=0.5))\n",
    "# H0 -errors are linear \n",
    "# HA- errors are not linear\n",
    "# So, p value < alpha ,we reject null hypothesis,i.e- errors/residual are not normal.\n",
    "from statsmodels.graphics.gofplots import ProbPlot\n",
    "import pylab\n",
    "st_residual = model.get_influence().resid_studentized_internal\n",
    "stats.probplot(st_residual, dist=\"norm\", plot = pylab)\n",
    "plt.show()\n",
    "\n",
    "# Also,the graph shows plot is not following linearity.\n",
    "# As, p value is less than alpha,we reject null hypothesis.So,we can say with statistical certainty that\n",
    "# errors are not linear which means that linear models will not work efficiently."
   ]
  },
  {
   "cell_type": "code",
   "execution_count": 126,
   "metadata": {},
   "outputs": [
    {
     "data": {
      "text/plain": [
       "[('F statistic', 1.0216032240075512), ('p-value', 0.2430029954482895)]"
      ]
     },
     "execution_count": 126,
     "metadata": {},
     "output_type": "execute_result"
    }
   ],
   "source": [
    "#### Assumption 4 : homoscedastic\n",
    "\n",
    "# H0- Data is homoscedastic [ constant variance across the data] \n",
    "# HA- Data is heteroscedastic [No constant variance across the data] \n",
    "from statsmodels.compat import lzip\n",
    "import statsmodels.stats.api as sms\n",
    "name = ['F statistic', 'p-value']\n",
    "test = sms.het_goldfeldquandt(model.resid, model.model.exog)\n",
    "lzip(name, test)\n",
    "# Since,P value > alpha ,we fail to reject null hypothesis.\n",
    "# here,we can say that data is homoscedastic."
   ]
  },
  {
   "cell_type": "code",
   "execution_count": 127,
   "metadata": {},
   "outputs": [
    {
     "data": {
      "text/html": [
       "<div>\n",
       "<style scoped>\n",
       "    .dataframe tbody tr th:only-of-type {\n",
       "        vertical-align: middle;\n",
       "    }\n",
       "\n",
       "    .dataframe tbody tr th {\n",
       "        vertical-align: top;\n",
       "    }\n",
       "\n",
       "    .dataframe thead th {\n",
       "        text-align: right;\n",
       "    }\n",
       "</style>\n",
       "<table border=\"1\" class=\"dataframe\">\n",
       "  <thead>\n",
       "    <tr style=\"text-align: right;\">\n",
       "      <th></th>\n",
       "      <th>Item_Weight</th>\n",
       "      <th>Item_Fat_Content</th>\n",
       "      <th>Item_Visibility</th>\n",
       "      <th>Item_Type</th>\n",
       "      <th>Item_MRP</th>\n",
       "      <th>Outlet_Identifier</th>\n",
       "      <th>Outlet_Establishment_Year</th>\n",
       "      <th>Outlet_Size</th>\n",
       "      <th>Outlet_Location_Type</th>\n",
       "      <th>Outlet_Type</th>\n",
       "    </tr>\n",
       "  </thead>\n",
       "  <tbody>\n",
       "    <tr>\n",
       "      <th>vif</th>\n",
       "      <td>1.002198</td>\n",
       "      <td>1.022403</td>\n",
       "      <td>1.064632</td>\n",
       "      <td>1.022478</td>\n",
       "      <td>1.001931</td>\n",
       "      <td>4.148537</td>\n",
       "      <td>1.081894</td>\n",
       "      <td>1.714448</td>\n",
       "      <td>5.865029</td>\n",
       "      <td>2.646478</td>\n",
       "    </tr>\n",
       "  </tbody>\n",
       "</table>\n",
       "</div>"
      ],
      "text/plain": [
       "     Item_Weight  Item_Fat_Content  Item_Visibility  Item_Type  Item_MRP  \\\n",
       "vif     1.002198          1.022403         1.064632   1.022478  1.001931   \n",
       "\n",
       "     Outlet_Identifier  Outlet_Establishment_Year  Outlet_Size  \\\n",
       "vif           4.148537                   1.081894     1.714448   \n",
       "\n",
       "     Outlet_Location_Type  Outlet_Type  \n",
       "vif              5.865029     2.646478  "
      ]
     },
     "execution_count": 127,
     "metadata": {},
     "output_type": "execute_result"
    }
   ],
   "source": [
    "#### Assumption 5- Multicollinearity:\n",
    "\n",
    "from statsmodels.stats.outliers_influence import variance_inflation_factor\n",
    "\n",
    "vif = [variance_inflation_factor(Xc.values, i) for i in range(Xc.shape[1])]\n",
    "pd.DataFrame({'vif': vif[1:]}, index=X.columns).T\n",
    "\n",
    "## So,Multicollinearity does not exist.\n",
    "## All the values of vif are below 5.So there is no multicollinearity"
   ]
  },
  {
   "cell_type": "markdown",
   "metadata": {},
   "source": [
    "## All label encoded with model building:"
   ]
  },
  {
   "cell_type": "code",
   "execution_count": null,
   "metadata": {},
   "outputs": [],
   "source": [
    "df1=df.copy()\n",
    "df1.drop('Item_Identifier',1,inplace=True)\n",
    "### Converting Incorrect classes,typos into same class in df1.\n",
    "df1['Item_Fat_Content'].replace({'LF':'Low Fat','low fat':'Low Fat','reg':'Regular'},inplace=True)"
   ]
  },
  {
   "cell_type": "markdown",
   "metadata": {},
   "source": [
    "#### Treatment of missing values by median/most_frequent:"
   ]
  },
  {
   "cell_type": "code",
   "execution_count": 29,
   "metadata": {},
   "outputs": [],
   "source": [
    "from sklearn.impute import SimpleImputer\n",
    "si=SimpleImputer(missing_values=np.nan, strategy='median')\n",
    "sicate=SimpleImputer(missing_values=np.nan, strategy='most_frequent')\n",
    "for i in df1.select_dtypes(include='object'):\n",
    "    if df1[i].isnull().sum()>0:\n",
    "        df1[i]=sicate.fit_transform(np.array(df1[i]).reshape(-1,1))\n",
    "for i in df1.select_dtypes(exclude='object'):\n",
    "    if df1[i].isnull().sum()>0:\n",
    "        df1[i]=si.fit_transform(np.array(df1[i]).reshape(-1,1))"
   ]
  },
  {
   "cell_type": "code",
   "execution_count": 30,
   "metadata": {},
   "outputs": [],
   "source": [
    "## Label encoding\n",
    "from sklearn.preprocessing import LabelEncoder\n",
    "le=LabelEncoder()\n",
    "for i in df1.select_dtypes(include='object'):\n",
    "    df1[i]=le.fit_transform(df1[i])"
   ]
  },
  {
   "cell_type": "code",
   "execution_count": null,
   "metadata": {},
   "outputs": [],
   "source": [
    "X=df1.drop('Item_Outlet_Sales',1)\n",
    "y=df1['Item_Outlet_Sales']"
   ]
  },
  {
   "cell_type": "code",
   "execution_count": 58,
   "metadata": {},
   "outputs": [],
   "source": [
    "## This is temporary checking:\n",
    "X=df1.drop('Item_Outlet_Sales',1)\n",
    "y=df1['Item_Outlet_Sales']\n",
    "X_train, X_test, y_train, y_test = train_test_split(X,y, test_size = 0.2, random_state =0)\n",
    "from sklearn.model_selection import GridSearchCV,RandomizedSearchCV\n",
    "dt = DecisionTreeRegressor()\n",
    "dt_params = {'max_depth':np.arange(1,10), 'min_samples_leaf':np.arange(2,30)}\n",
    "rscv = RandomizedSearchCV(dt, dt_params, cv=5)\n",
    "rscv.fit(X, y)\n",
    "print(rscv.best_params_)\n",
    "rscv_best_DT=rscv.best_params_\n",
    "DT=DecisionTreeRegressor(**rscv_best_DT)\n",
    "DT.fit(X_train,y_train)"
   ]
  },
  {
   "cell_type": "code",
   "execution_count": 38,
   "metadata": {},
   "outputs": [],
   "source": [
    "y_pred=DT.predict(X_test)"
   ]
  },
  {
   "cell_type": "code",
   "execution_count": 48,
   "metadata": {},
   "outputs": [
    {
     "name": "stdout",
     "output_type": "stream",
     "text": [
      "r2 score: 0.5841152849505304\n",
      "RMSE: 1103.2842378715563\n"
     ]
    }
   ],
   "source": [
    "print('r2 score:',r2_score(y_test,y_pred));print('RMSE:',np.sqrt(mean_squared_error(y_test,y_pred)))"
   ]
  },
  {
   "cell_type": "markdown",
   "metadata": {},
   "source": [
    "#### Test data manipulations for label encoding:"
   ]
  },
  {
   "cell_type": "code",
   "execution_count": 51,
   "metadata": {},
   "outputs": [],
   "source": [
    "dfte=pd.read_csv('D:/datasets+minipro/analytics vidhya datasets/bigmart sale/test_AbJTz2l.csv')\n",
    "df2=dfte.copy()\n",
    "df2.drop('Item_Identifier',1,inplace=True)\n",
    "df2['Item_Fat_Content'].replace({'LF':'Low Fat','low fat':'Low Fat','reg':'Regular'},inplace=True)\n",
    "from sklearn.impute import SimpleImputer\n",
    "si=SimpleImputer(missing_values=np.nan, strategy='median')\n",
    "sicate=SimpleImputer(missing_values=np.nan, strategy='most_frequent')\n",
    "for i in df2.select_dtypes(include='object'):\n",
    "    if df2[i].isnull().sum()>0:\n",
    "        df2[i]=sicate.fit_transform(np.array(df2[i]).reshape(-1,1))\n",
    "for i in df2.select_dtypes(exclude='object'):\n",
    "    if df2[i].isnull().sum()>0:\n",
    "        df2[i]=si.fit_transform(np.array(df2[i]).reshape(-1,1))\n",
    "from sklearn.preprocessing import LabelEncoder\n",
    "le=LabelEncoder()\n",
    "for i in df2.select_dtypes(include='object'):\n",
    "    df2[i]=le.fit_transform(df2[i])"
   ]
  },
  {
   "cell_type": "markdown",
   "metadata": {},
   "source": [
    "##### Using Linear Regression:[For all label encoded]"
   ]
  },
  {
   "cell_type": "code",
   "execution_count": 57,
   "metadata": {},
   "outputs": [],
   "source": [
    "lr=LinearRegression()\n",
    "lr.fit(X,y)\n",
    "y_test_pred_lr=lr.predict(df2)\n",
    "finalpred=pd.concat([dfte[['Item_Identifier','Outlet_Identifier']],pd.DataFrame(y_test_pred_lr,columns=['Item_Outlet_Sales'])],1)\n",
    "finalpred.to_csv(\"D:/datasets+minipro/analytics vidhya datasets/bigmart sale/bigmartsalepredictionnew/rscvdt.csv\",index=False)"
   ]
  },
  {
   "cell_type": "markdown",
   "metadata": {},
   "source": [
    "##### Using DT Regression:[For all label encoded]:"
   ]
  },
  {
   "cell_type": "code",
   "execution_count": 59,
   "metadata": {},
   "outputs": [
    {
     "name": "stdout",
     "output_type": "stream",
     "text": [
      "{'min_samples_leaf': 17, 'max_depth': 6}\n"
     ]
    },
    {
     "data": {
      "text/plain": [
       "DecisionTreeRegressor(ccp_alpha=0.0, criterion='mse', max_depth=6,\n",
       "                      max_features=None, max_leaf_nodes=None,\n",
       "                      min_impurity_decrease=0.0, min_impurity_split=None,\n",
       "                      min_samples_leaf=17, min_samples_split=2,\n",
       "                      min_weight_fraction_leaf=0.0, presort='deprecated',\n",
       "                      random_state=None, splitter='best')"
      ]
     },
     "execution_count": 59,
     "metadata": {},
     "output_type": "execute_result"
    }
   ],
   "source": [
    "X=df1.drop('Item_Outlet_Sales',1)\n",
    "y=df1['Item_Outlet_Sales']\n",
    "X_train, X_test, y_train, y_test = train_test_split(X,y, test_size = 0.2, random_state =0)\n",
    "from sklearn.model_selection import GridSearchCV,RandomizedSearchCV\n",
    "dt = DecisionTreeRegressor()\n",
    "dt_params = {'max_depth':np.arange(1,10), 'min_samples_leaf':np.arange(2,30)}\n",
    "rscv = RandomizedSearchCV(dt, dt_params, cv=5)\n",
    "rscv.fit(X, y)\n",
    "print(rscv.best_params_)\n",
    "rscv_best_DT=rscv.best_params_\n",
    "DT=DecisionTreeRegressor(**rscv_best_DT)\n",
    "DT.fit(X_train,y_train)"
   ]
  },
  {
   "cell_type": "code",
   "execution_count": 71,
   "metadata": {},
   "outputs": [],
   "source": [
    "DT=DecisionTreeRegressor(**{'min_samples_leaf': 4, 'max_depth': 5})\n",
    "DT.fit(X,y)\n",
    "y_test_pred_DT=DT.predict(df2)\n",
    "finalpred=pd.concat([dfte[['Item_Identifier','Outlet_Identifier']],pd.DataFrame(y_test_pred_DT,columns=['Item_Outlet_Sales'])],1)\n",
    "finalpred.to_csv(\"D:/datasets+minipro/analytics vidhya datasets/bigmart sale/bigmartsalepredictionnew/rscvDT.csv\",index=False)\n",
    "### 1167 using {'min_samples_leaf': 17, 'max_depth': 6}\n",
    "### 1166 using {'min_samples_leaf': 11, 'max_depth': 6}\n",
    "###  1159 using {'min_samples_leaf': 4, 'max_depth': 5})"
   ]
  },
  {
   "cell_type": "markdown",
   "metadata": {},
   "source": [
    "##### Using Random Forest:[For all label encoded]"
   ]
  },
  {
   "cell_type": "code",
   "execution_count": 74,
   "metadata": {},
   "outputs": [
    {
     "name": "stdout",
     "output_type": "stream",
     "text": [
      "{'bootstrap': True, 'max_depth': 10, 'max_features': 3, 'min_samples_leaf': 4, 'min_samples_split': 10, 'n_estimators': 100}\n"
     ]
    }
   ],
   "source": [
    "rf_params = {\n",
    "    'bootstrap': [True],\n",
    "    'max_depth': [3,10],\n",
    "    'max_features': [2, 3],\n",
    "    'min_samples_leaf': [3, 4, 5],\n",
    "    'min_samples_split': [8, 10],\n",
    "    'n_estimators': [100, 200]}\n",
    "rf=RandomForestRegressor()\n",
    "rscv_rf = RandomizedSearchCV(rf, rf_params, cv=3)\n",
    "rscv_rf.fit(X, y)\n",
    "print(rscv_rf.best_params_)\n",
    "rscv_rf_best_rf=rscv_rf.best_params_\n",
    "\n",
    "## 1161 RMSE={'n_estimators': 200, 'min_samples_split': 10, 'min_samples_leaf': 4, 'max_features': 3, 'max_depth': 10, 'bootstrap': True}\n",
    "### 1161 RMSE={'n_estimators': 100, 'min_samples_split': 8, 'min_samples_leaf': 4, 'max_features': 3, 'max_depth': 10, 'bootstrap': True}\n",
    "### 1161 Gridsearch :{'bootstrap': True, 'max_depth': 10, 'max_features': 3, 'min_samples_leaf': 4, 'min_samples_split': 10, 'n_estimators': 100}"
   ]
  },
  {
   "cell_type": "code",
   "execution_count": 75,
   "metadata": {},
   "outputs": [],
   "source": [
    "rf=RandomForestRegressor(**rscv_rf_best_rf)\n",
    "rf.fit(X,y)\n",
    "y_test_pred_rf=rf.predict(df2)\n",
    "finalpred=pd.concat([dfte[['Item_Identifier','Outlet_Identifier']],pd.DataFrame(y_test_pred_rf,columns=['Item_Outlet_Sales'])],1)\n",
    "finalpred.to_csv(\"D:/datasets+minipro/analytics vidhya datasets/bigmart sale/bigmartsalepredictionnew/rscvrf.csv\",index=False)"
   ]
  },
  {
   "cell_type": "markdown",
   "metadata": {},
   "source": [
    "## All get_dummies:"
   ]
  },
  {
   "cell_type": "code",
   "execution_count": 103,
   "metadata": {},
   "outputs": [],
   "source": [
    "df3=df.copy()\n",
    "df3.drop('Item_Identifier',1,inplace=True)\n",
    "df3['Item_Fat_Content'].replace({'LF':'Low Fat','low fat':'Low Fat','reg':'Regular'},inplace=True)"
   ]
  },
  {
   "cell_type": "markdown",
   "metadata": {},
   "source": [
    "#### Treatment of missing values by median/most_frequent:"
   ]
  },
  {
   "cell_type": "code",
   "execution_count": 104,
   "metadata": {},
   "outputs": [],
   "source": [
    "from sklearn.impute import SimpleImputer\n",
    "si=SimpleImputer(missing_values=np.nan, strategy='median')\n",
    "sicate=SimpleImputer(missing_values=np.nan, strategy='most_frequent')\n",
    "for i in df3.select_dtypes(include='object'):\n",
    "    if df3[i].isnull().sum()>0:\n",
    "        df3[i]=sicate.fit_transform(np.array(df3[i]).reshape(-1,1))\n",
    "for i in df3.select_dtypes(exclude='object'):\n",
    "    if df3[i].isnull().sum()>0:\n",
    "        df3[i]=si.fit_transform(np.array(df3[i]).reshape(-1,1))"
   ]
  },
  {
   "cell_type": "code",
   "execution_count": 105,
   "metadata": {},
   "outputs": [],
   "source": [
    "for i in df3.select_dtypes(include='object'):\n",
    "    df3=pd.concat([df3,pd.get_dummies(df3[i],prefix=i,drop_first=True)],1)\n",
    "    del df3[i]"
   ]
  },
  {
   "cell_type": "markdown",
   "metadata": {},
   "source": [
    "#### Test data manipulation for dummies:"
   ]
  },
  {
   "cell_type": "code",
   "execution_count": 106,
   "metadata": {},
   "outputs": [],
   "source": [
    "df4=dfte.copy()\n",
    "df4.drop('Item_Identifier',1,inplace=True)\n",
    "df4['Item_Fat_Content'].replace({'LF':'Low Fat','low fat':'Low Fat','reg':'Regular'},inplace=True)"
   ]
  },
  {
   "cell_type": "code",
   "execution_count": 107,
   "metadata": {},
   "outputs": [],
   "source": [
    "from sklearn.impute import SimpleImputer\n",
    "si=SimpleImputer(missing_values=np.nan, strategy='median')\n",
    "sicate=SimpleImputer(missing_values=np.nan, strategy='most_frequent')\n",
    "for i in df4.select_dtypes(include='object'):\n",
    "    if df4[i].isnull().sum()>0:\n",
    "        df4[i]=sicate.fit_transform(np.array(df4[i]).reshape(-1,1))\n",
    "for i in df4.select_dtypes(exclude='object'):\n",
    "    if df4[i].isnull().sum()>0:\n",
    "        df4[i]=si.fit_transform(np.array(df4[i]).reshape(-1,1))\n",
    "for i in df4.select_dtypes(include='object'):\n",
    "    df4=pd.concat([df4,pd.get_dummies(df4[i],prefix=i,drop_first=True)],1)\n",
    "    del df4[i]"
   ]
  },
  {
   "cell_type": "code",
   "execution_count": 110,
   "metadata": {},
   "outputs": [],
   "source": [
    "X=df3.drop('Item_Outlet_Sales',1)\n",
    "y=df3['Item_Outlet_Sales']"
   ]
  },
  {
   "cell_type": "code",
   "execution_count": 111,
   "metadata": {},
   "outputs": [],
   "source": [
    "##### Using Linear Regression:[For all label encoded]\n",
    "lr=LinearRegression()\n",
    "lr.fit(X,y)\n",
    "y_test_pred_lr=lr.predict(df4)\n",
    "finalpred=pd.concat([dfte[['Item_Identifier','Outlet_Identifier']],pd.DataFrame(y_test_pred_lr,columns=['Item_Outlet_Sales'])],1)\n",
    "finalpred.to_csv(\"D:/datasets+minipro/analytics vidhya datasets/bigmart sale/bigmartsalepredictionnew/rscvlr.csv\",index=False)"
   ]
  },
  {
   "cell_type": "code",
   "execution_count": 114,
   "metadata": {},
   "outputs": [
    {
     "name": "stdout",
     "output_type": "stream",
     "text": [
      "{'min_samples_leaf': 18, 'max_depth': 5}\n"
     ]
    }
   ],
   "source": [
    "##### Using DT Regression:[For all label encoded]:\n",
    "\n",
    "X=df3.drop('Item_Outlet_Sales',1)\n",
    "y=df3['Item_Outlet_Sales']\n",
    "X_train, X_test, y_train, y_test = train_test_split(X,y, test_size = 0.2, random_state =0)\n",
    "from sklearn.model_selection import GridSearchCV,RandomizedSearchCV\n",
    "dt = DecisionTreeRegressor()\n",
    "dt_params = {'max_depth':np.arange(1,10), 'min_samples_leaf':np.arange(2,30)}\n",
    "rscv = RandomizedSearchCV(dt, dt_params, cv=5)\n",
    "rscv.fit(X, y)\n",
    "print(rscv.best_params_)\n",
    "rscv_best_DT=rscv.best_params_\n",
    "\n",
    "DT=DecisionTreeRegressor(**{'min_samples_leaf': 4, 'max_depth': 5})\n",
    "DT.fit(X,y)\n",
    "y_test_pred_DT=DT.predict(df4)\n",
    "finalpred=pd.concat([dfte[['Item_Identifier','Outlet_Identifier']],pd.DataFrame(y_test_pred_DT,columns=['Item_Outlet_Sales'])],1)\n",
    "finalpred.to_csv(\"D:/datasets+minipro/analytics vidhya datasets/bigmart sale/bigmartsalepredictionnew/rscvDT.csv\",index=False)"
   ]
  },
  {
   "cell_type": "code",
   "execution_count": 115,
   "metadata": {},
   "outputs": [
    {
     "name": "stdout",
     "output_type": "stream",
     "text": [
      "{'n_estimators': 100, 'min_samples_split': 10, 'min_samples_leaf': 5, 'max_features': 3, 'max_depth': 10, 'bootstrap': True}\n"
     ]
    }
   ],
   "source": [
    "##### Using Random Forest:[For all label encoded]\n",
    "\n",
    "rf_params = {\n",
    "    'bootstrap': [True],\n",
    "    'max_depth': [3,10],\n",
    "    'max_features': [2, 3],\n",
    "    'min_samples_leaf': [3, 4, 5],\n",
    "    'min_samples_split': [8, 10],\n",
    "    'n_estimators': [100, 200]}\n",
    "rf=RandomForestRegressor()\n",
    "rscv_rf = RandomizedSearchCV(rf, rf_params, cv=3)\n",
    "rscv_rf.fit(X, y)\n",
    "print(rscv_rf.best_params_)\n",
    "rscv_rf_best_rf=rscv_rf.best_params_\n",
    "\n",
    "rf=RandomForestRegressor(**rscv_rf_best_rf)\n",
    "rf.fit(X,y)\n",
    "y_test_pred_rf=rf.predict(df4)\n",
    "finalpred=pd.concat([dfte[['Item_Identifier','Outlet_Identifier']],pd.DataFrame(y_test_pred_rf,columns=['Item_Outlet_Sales'])],1)\n",
    "finalpred.to_csv(\"D:/datasets+minipro/analytics vidhya datasets/bigmart sale/bigmartsalepredictionnew/rscvrf.csv\",index=False)"
   ]
  },
  {
   "cell_type": "markdown",
   "metadata": {},
   "source": [
    "#### So,Decision tree as a regressor is my best model with hyperparameter tuning and all label encoding.\n",
    "#### It gives around 1159 rmse on AV platform."
   ]
  },
  {
   "cell_type": "code",
   "execution_count": null,
   "metadata": {},
   "outputs": [],
   "source": []
  }
 ],
 "metadata": {
  "kernelspec": {
   "display_name": "Python 3",
   "language": "python",
   "name": "python3"
  },
  "language_info": {
   "codemirror_mode": {
    "name": "ipython",
    "version": 3
   },
   "file_extension": ".py",
   "mimetype": "text/x-python",
   "name": "python",
   "nbconvert_exporter": "python",
   "pygments_lexer": "ipython3",
   "version": "3.6.4"
  }
 },
 "nbformat": 4,
 "nbformat_minor": 2
}
